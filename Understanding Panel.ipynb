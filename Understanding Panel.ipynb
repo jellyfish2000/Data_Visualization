{
 "cells": [
  {
   "cell_type": "code",
   "execution_count": 95,
   "id": "c95292e1",
   "metadata": {},
   "outputs": [],
   "source": [
    "import pandas as pd\n",
    "import numpy as np\n",
    "import panel as pn\n",
    "pn.extension()\n",
    "import hvplot.pandas\n",
    "import matplotlib.pyplot as plt\n",
    "import datetime as dt"
   ]
  },
  {
   "cell_type": "code",
   "execution_count": 192,
   "id": "26a3e7fa",
   "metadata": {},
   "outputs": [],
   "source": [
    "df = pd.read_csv(\"Year.csv\",header=0, index_col=False)"
   ]
  },
  {
   "cell_type": "code",
   "execution_count": 193,
   "id": "0f0e078e",
   "metadata": {},
   "outputs": [
    {
     "data": {
      "text/html": [
       "<div>\n",
       "<style scoped>\n",
       "    .dataframe tbody tr th:only-of-type {\n",
       "        vertical-align: middle;\n",
       "    }\n",
       "\n",
       "    .dataframe tbody tr th {\n",
       "        vertical-align: top;\n",
       "    }\n",
       "\n",
       "    .dataframe thead th {\n",
       "        text-align: right;\n",
       "    }\n",
       "</style>\n",
       "<table border=\"1\" class=\"dataframe\">\n",
       "  <thead>\n",
       "    <tr style=\"text-align: right;\">\n",
       "      <th></th>\n",
       "      <th>Date</th>\n",
       "      <th>Time</th>\n",
       "      <th>System Setting</th>\n",
       "      <th>System Mode</th>\n",
       "      <th>Calendar Event</th>\n",
       "      <th>Program Mode</th>\n",
       "      <th>Cool Set Temp (C)</th>\n",
       "      <th>Heat Set Temp (C)</th>\n",
       "      <th>Current Temp (C)</th>\n",
       "      <th>Current Humidity (%RH)</th>\n",
       "      <th>...</th>\n",
       "      <th>tempLoft2</th>\n",
       "      <th>tempMainBedroom (C)</th>\n",
       "      <th>tempMainBedroom2</th>\n",
       "      <th>tempLivingRoom (C)</th>\n",
       "      <th>tempLivingRoom2</th>\n",
       "      <th>Back window (contact)</th>\n",
       "      <th>Main Bedroom window (contact)</th>\n",
       "      <th>Living Room window (contact)</th>\n",
       "      <th>Office window (contact)</th>\n",
       "      <th>Small Bedroom window (contact)</th>\n",
       "    </tr>\n",
       "  </thead>\n",
       "  <tbody>\n",
       "    <tr>\n",
       "      <th>0</th>\n",
       "      <td>2022-01-01</td>\n",
       "      <td>00:00:00</td>\n",
       "      <td>heat</td>\n",
       "      <td>heatOff</td>\n",
       "      <td>NaN</td>\n",
       "      <td>Sleep</td>\n",
       "      <td>26.5</td>\n",
       "      <td>19.5</td>\n",
       "      <td>24.8</td>\n",
       "      <td>39.0</td>\n",
       "      <td>...</td>\n",
       "      <td>NaN</td>\n",
       "      <td>NaN</td>\n",
       "      <td>NaN</td>\n",
       "      <td>NaN</td>\n",
       "      <td>NaN</td>\n",
       "      <td>NaN</td>\n",
       "      <td>NaN</td>\n",
       "      <td>NaN</td>\n",
       "      <td>NaN</td>\n",
       "      <td>NaN</td>\n",
       "    </tr>\n",
       "    <tr>\n",
       "      <th>1</th>\n",
       "      <td>2022-01-01</td>\n",
       "      <td>00:05:00</td>\n",
       "      <td>heat</td>\n",
       "      <td>heatOff</td>\n",
       "      <td>NaN</td>\n",
       "      <td>Sleep</td>\n",
       "      <td>26.5</td>\n",
       "      <td>19.5</td>\n",
       "      <td>24.7</td>\n",
       "      <td>39.0</td>\n",
       "      <td>...</td>\n",
       "      <td>NaN</td>\n",
       "      <td>NaN</td>\n",
       "      <td>NaN</td>\n",
       "      <td>NaN</td>\n",
       "      <td>NaN</td>\n",
       "      <td>NaN</td>\n",
       "      <td>NaN</td>\n",
       "      <td>NaN</td>\n",
       "      <td>NaN</td>\n",
       "      <td>NaN</td>\n",
       "    </tr>\n",
       "    <tr>\n",
       "      <th>2</th>\n",
       "      <td>2022-01-01</td>\n",
       "      <td>00:10:00</td>\n",
       "      <td>heat</td>\n",
       "      <td>heatOff</td>\n",
       "      <td>NaN</td>\n",
       "      <td>Sleep</td>\n",
       "      <td>26.5</td>\n",
       "      <td>19.5</td>\n",
       "      <td>24.6</td>\n",
       "      <td>39.0</td>\n",
       "      <td>...</td>\n",
       "      <td>NaN</td>\n",
       "      <td>NaN</td>\n",
       "      <td>NaN</td>\n",
       "      <td>NaN</td>\n",
       "      <td>NaN</td>\n",
       "      <td>NaN</td>\n",
       "      <td>NaN</td>\n",
       "      <td>NaN</td>\n",
       "      <td>NaN</td>\n",
       "      <td>NaN</td>\n",
       "    </tr>\n",
       "    <tr>\n",
       "      <th>3</th>\n",
       "      <td>2022-01-01</td>\n",
       "      <td>00:15:00</td>\n",
       "      <td>heat</td>\n",
       "      <td>heatOff</td>\n",
       "      <td>NaN</td>\n",
       "      <td>Sleep</td>\n",
       "      <td>26.5</td>\n",
       "      <td>19.5</td>\n",
       "      <td>24.5</td>\n",
       "      <td>39.0</td>\n",
       "      <td>...</td>\n",
       "      <td>NaN</td>\n",
       "      <td>NaN</td>\n",
       "      <td>NaN</td>\n",
       "      <td>NaN</td>\n",
       "      <td>NaN</td>\n",
       "      <td>NaN</td>\n",
       "      <td>NaN</td>\n",
       "      <td>NaN</td>\n",
       "      <td>NaN</td>\n",
       "      <td>NaN</td>\n",
       "    </tr>\n",
       "    <tr>\n",
       "      <th>4</th>\n",
       "      <td>2022-01-01</td>\n",
       "      <td>00:20:00</td>\n",
       "      <td>heat</td>\n",
       "      <td>heatOff</td>\n",
       "      <td>NaN</td>\n",
       "      <td>Sleep</td>\n",
       "      <td>26.5</td>\n",
       "      <td>19.5</td>\n",
       "      <td>24.5</td>\n",
       "      <td>39.0</td>\n",
       "      <td>...</td>\n",
       "      <td>NaN</td>\n",
       "      <td>NaN</td>\n",
       "      <td>NaN</td>\n",
       "      <td>NaN</td>\n",
       "      <td>NaN</td>\n",
       "      <td>NaN</td>\n",
       "      <td>NaN</td>\n",
       "      <td>NaN</td>\n",
       "      <td>NaN</td>\n",
       "      <td>NaN</td>\n",
       "    </tr>\n",
       "    <tr>\n",
       "      <th>...</th>\n",
       "      <td>...</td>\n",
       "      <td>...</td>\n",
       "      <td>...</td>\n",
       "      <td>...</td>\n",
       "      <td>...</td>\n",
       "      <td>...</td>\n",
       "      <td>...</td>\n",
       "      <td>...</td>\n",
       "      <td>...</td>\n",
       "      <td>...</td>\n",
       "      <td>...</td>\n",
       "      <td>...</td>\n",
       "      <td>...</td>\n",
       "      <td>...</td>\n",
       "      <td>...</td>\n",
       "      <td>...</td>\n",
       "      <td>...</td>\n",
       "      <td>...</td>\n",
       "      <td>...</td>\n",
       "      <td>...</td>\n",
       "      <td>...</td>\n",
       "    </tr>\n",
       "    <tr>\n",
       "      <th>104827</th>\n",
       "      <td>2022-12-30</td>\n",
       "      <td>23:35:00</td>\n",
       "      <td>NaN</td>\n",
       "      <td>NaN</td>\n",
       "      <td>NaN</td>\n",
       "      <td>NaN</td>\n",
       "      <td>NaN</td>\n",
       "      <td>NaN</td>\n",
       "      <td>NaN</td>\n",
       "      <td>NaN</td>\n",
       "      <td>...</td>\n",
       "      <td>NaN</td>\n",
       "      <td>NaN</td>\n",
       "      <td>NaN</td>\n",
       "      <td>NaN</td>\n",
       "      <td>NaN</td>\n",
       "      <td>NaN</td>\n",
       "      <td>NaN</td>\n",
       "      <td>NaN</td>\n",
       "      <td>NaN</td>\n",
       "      <td>NaN</td>\n",
       "    </tr>\n",
       "    <tr>\n",
       "      <th>104828</th>\n",
       "      <td>2022-12-30</td>\n",
       "      <td>23:40:00</td>\n",
       "      <td>NaN</td>\n",
       "      <td>NaN</td>\n",
       "      <td>NaN</td>\n",
       "      <td>NaN</td>\n",
       "      <td>NaN</td>\n",
       "      <td>NaN</td>\n",
       "      <td>NaN</td>\n",
       "      <td>NaN</td>\n",
       "      <td>...</td>\n",
       "      <td>NaN</td>\n",
       "      <td>NaN</td>\n",
       "      <td>NaN</td>\n",
       "      <td>NaN</td>\n",
       "      <td>NaN</td>\n",
       "      <td>NaN</td>\n",
       "      <td>NaN</td>\n",
       "      <td>NaN</td>\n",
       "      <td>NaN</td>\n",
       "      <td>NaN</td>\n",
       "    </tr>\n",
       "    <tr>\n",
       "      <th>104829</th>\n",
       "      <td>2022-12-30</td>\n",
       "      <td>23:45:00</td>\n",
       "      <td>NaN</td>\n",
       "      <td>NaN</td>\n",
       "      <td>NaN</td>\n",
       "      <td>NaN</td>\n",
       "      <td>NaN</td>\n",
       "      <td>NaN</td>\n",
       "      <td>NaN</td>\n",
       "      <td>NaN</td>\n",
       "      <td>...</td>\n",
       "      <td>NaN</td>\n",
       "      <td>NaN</td>\n",
       "      <td>NaN</td>\n",
       "      <td>NaN</td>\n",
       "      <td>NaN</td>\n",
       "      <td>NaN</td>\n",
       "      <td>NaN</td>\n",
       "      <td>NaN</td>\n",
       "      <td>NaN</td>\n",
       "      <td>NaN</td>\n",
       "    </tr>\n",
       "    <tr>\n",
       "      <th>104830</th>\n",
       "      <td>2022-12-30</td>\n",
       "      <td>23:50:00</td>\n",
       "      <td>NaN</td>\n",
       "      <td>NaN</td>\n",
       "      <td>NaN</td>\n",
       "      <td>NaN</td>\n",
       "      <td>NaN</td>\n",
       "      <td>NaN</td>\n",
       "      <td>NaN</td>\n",
       "      <td>NaN</td>\n",
       "      <td>...</td>\n",
       "      <td>NaN</td>\n",
       "      <td>NaN</td>\n",
       "      <td>NaN</td>\n",
       "      <td>NaN</td>\n",
       "      <td>NaN</td>\n",
       "      <td>NaN</td>\n",
       "      <td>NaN</td>\n",
       "      <td>NaN</td>\n",
       "      <td>NaN</td>\n",
       "      <td>NaN</td>\n",
       "    </tr>\n",
       "    <tr>\n",
       "      <th>104831</th>\n",
       "      <td>2022-12-30</td>\n",
       "      <td>23:55:00</td>\n",
       "      <td>NaN</td>\n",
       "      <td>NaN</td>\n",
       "      <td>NaN</td>\n",
       "      <td>NaN</td>\n",
       "      <td>NaN</td>\n",
       "      <td>NaN</td>\n",
       "      <td>NaN</td>\n",
       "      <td>NaN</td>\n",
       "      <td>...</td>\n",
       "      <td>NaN</td>\n",
       "      <td>NaN</td>\n",
       "      <td>NaN</td>\n",
       "      <td>NaN</td>\n",
       "      <td>NaN</td>\n",
       "      <td>NaN</td>\n",
       "      <td>NaN</td>\n",
       "      <td>NaN</td>\n",
       "      <td>NaN</td>\n",
       "      <td>NaN</td>\n",
       "    </tr>\n",
       "  </tbody>\n",
       "</table>\n",
       "<p>104832 rows × 39 columns</p>\n",
       "</div>"
      ],
      "text/plain": [
       "              Date      Time System Setting System Mode Calendar Event  \\\n",
       "0       2022-01-01  00:00:00           heat     heatOff            NaN   \n",
       "1       2022-01-01  00:05:00           heat     heatOff            NaN   \n",
       "2       2022-01-01  00:10:00           heat     heatOff            NaN   \n",
       "3       2022-01-01  00:15:00           heat     heatOff            NaN   \n",
       "4       2022-01-01  00:20:00           heat     heatOff            NaN   \n",
       "...            ...       ...            ...         ...            ...   \n",
       "104827  2022-12-30  23:35:00            NaN         NaN            NaN   \n",
       "104828  2022-12-30  23:40:00            NaN         NaN            NaN   \n",
       "104829  2022-12-30  23:45:00            NaN         NaN            NaN   \n",
       "104830  2022-12-30  23:50:00            NaN         NaN            NaN   \n",
       "104831  2022-12-30  23:55:00            NaN         NaN            NaN   \n",
       "\n",
       "       Program Mode  Cool Set Temp (C)  Heat Set Temp (C)  Current Temp (C)  \\\n",
       "0             Sleep               26.5               19.5              24.8   \n",
       "1             Sleep               26.5               19.5              24.7   \n",
       "2             Sleep               26.5               19.5              24.6   \n",
       "3             Sleep               26.5               19.5              24.5   \n",
       "4             Sleep               26.5               19.5              24.5   \n",
       "...             ...                ...                ...               ...   \n",
       "104827          NaN                NaN                NaN               NaN   \n",
       "104828          NaN                NaN                NaN               NaN   \n",
       "104829          NaN                NaN                NaN               NaN   \n",
       "104830          NaN                NaN                NaN               NaN   \n",
       "104831          NaN                NaN                NaN               NaN   \n",
       "\n",
       "        Current Humidity (%RH)  ...  tempLoft2  tempMainBedroom (C)  \\\n",
       "0                         39.0  ...        NaN                  NaN   \n",
       "1                         39.0  ...        NaN                  NaN   \n",
       "2                         39.0  ...        NaN                  NaN   \n",
       "3                         39.0  ...        NaN                  NaN   \n",
       "4                         39.0  ...        NaN                  NaN   \n",
       "...                        ...  ...        ...                  ...   \n",
       "104827                     NaN  ...        NaN                  NaN   \n",
       "104828                     NaN  ...        NaN                  NaN   \n",
       "104829                     NaN  ...        NaN                  NaN   \n",
       "104830                     NaN  ...        NaN                  NaN   \n",
       "104831                     NaN  ...        NaN                  NaN   \n",
       "\n",
       "        tempMainBedroom2  tempLivingRoom (C)  tempLivingRoom2  \\\n",
       "0                    NaN                 NaN              NaN   \n",
       "1                    NaN                 NaN              NaN   \n",
       "2                    NaN                 NaN              NaN   \n",
       "3                    NaN                 NaN              NaN   \n",
       "4                    NaN                 NaN              NaN   \n",
       "...                  ...                 ...              ...   \n",
       "104827               NaN                 NaN              NaN   \n",
       "104828               NaN                 NaN              NaN   \n",
       "104829               NaN                 NaN              NaN   \n",
       "104830               NaN                 NaN              NaN   \n",
       "104831               NaN                 NaN              NaN   \n",
       "\n",
       "        Back window (contact)  Main Bedroom window (contact)  \\\n",
       "0                         NaN                            NaN   \n",
       "1                         NaN                            NaN   \n",
       "2                         NaN                            NaN   \n",
       "3                         NaN                            NaN   \n",
       "4                         NaN                            NaN   \n",
       "...                       ...                            ...   \n",
       "104827                    NaN                            NaN   \n",
       "104828                    NaN                            NaN   \n",
       "104829                    NaN                            NaN   \n",
       "104830                    NaN                            NaN   \n",
       "104831                    NaN                            NaN   \n",
       "\n",
       "        Living Room window (contact)  Office window (contact)  \\\n",
       "0                                NaN                      NaN   \n",
       "1                                NaN                      NaN   \n",
       "2                                NaN                      NaN   \n",
       "3                                NaN                      NaN   \n",
       "4                                NaN                      NaN   \n",
       "...                              ...                      ...   \n",
       "104827                           NaN                      NaN   \n",
       "104828                           NaN                      NaN   \n",
       "104829                           NaN                      NaN   \n",
       "104830                           NaN                      NaN   \n",
       "104831                           NaN                      NaN   \n",
       "\n",
       "        Small Bedroom window (contact)  \n",
       "0                                  NaN  \n",
       "1                                  NaN  \n",
       "2                                  NaN  \n",
       "3                                  NaN  \n",
       "4                                  NaN  \n",
       "...                                ...  \n",
       "104827                             NaN  \n",
       "104828                             NaN  \n",
       "104829                             NaN  \n",
       "104830                             NaN  \n",
       "104831                             NaN  \n",
       "\n",
       "[104832 rows x 39 columns]"
      ]
     },
     "execution_count": 193,
     "metadata": {},
     "output_type": "execute_result"
    }
   ],
   "source": [
    "df"
   ]
  },
  {
   "cell_type": "code",
   "execution_count": 194,
   "id": "7d97dc4b",
   "metadata": {},
   "outputs": [
    {
     "data": {
      "text/plain": [
       "Index(['Date', 'Time', 'System Setting', 'System Mode', 'Calendar Event',\n",
       "       'Program Mode', 'Cool Set Temp (C)', 'Heat Set Temp (C)',\n",
       "       'Current Temp (C)', 'Current Humidity (%RH)', 'Outdoor Temp (C)',\n",
       "       'Wind Speed (km/h)', 'Cool Stage 1 (sec)', 'Heat Stage 1 (sec)',\n",
       "       'Fan (sec)', 'DM Offset', 'Thermostat Temperature (C)',\n",
       "       'Thermostat Humidity (%RH)', 'Thermostat Motion',\n",
       "       'Thermostat AirQualityAccuracy', 'Thermostat AirQuality',\n",
       "       'Thermostat VOCppm', 'Thermostat CO2ppm', 'Thermostat AirPressure',\n",
       "       'Gym (C)', 'Gym2', 'tempOffice (C)', 'tempOffice2', 'tempLoft (C)',\n",
       "       'tempLoft2', 'tempMainBedroom (C)', 'tempMainBedroom2',\n",
       "       'tempLivingRoom (C)', 'tempLivingRoom2', 'Back window (contact)',\n",
       "       'Main Bedroom window (contact)', 'Living Room window (contact)',\n",
       "       'Office window (contact)', 'Small Bedroom window (contact)'],\n",
       "      dtype='object')"
      ]
     },
     "execution_count": 194,
     "metadata": {},
     "output_type": "execute_result"
    }
   ],
   "source": [
    "df.columns"
   ]
  },
  {
   "cell_type": "code",
   "execution_count": null,
   "id": "16cfe966",
   "metadata": {},
   "outputs": [],
   "source": []
  },
  {
   "cell_type": "code",
   "execution_count": 195,
   "id": "161938de",
   "metadata": {},
   "outputs": [
    {
     "data": {
      "text/plain": [
       "datetime.date(2022, 1, 1)"
      ]
     },
     "execution_count": 195,
     "metadata": {},
     "output_type": "execute_result"
    }
   ],
   "source": [
    "type(df.Date[1])\n",
    "\n",
    "\n",
    "\n",
    "df['Date'] = pd.to_datetime(df['Date']).apply(lambda x: x.date())\n",
    "\n",
    "\n",
    "df.Date[0]"
   ]
  },
  {
   "cell_type": "code",
   "execution_count": 179,
   "id": "a07e10ec",
   "metadata": {},
   "outputs": [
    {
     "data": {
      "text/plain": [
       "Series([], Name: Current Temp (C), dtype: float64)"
      ]
     },
     "execution_count": 179,
     "metadata": {},
     "output_type": "execute_result"
    }
   ],
   "source": [
    "df[df['Date']=='2022-01-01'][\"Current Temp (C)\"]"
   ]
  },
  {
   "cell_type": "code",
   "execution_count": 7,
   "id": "69f501d6",
   "metadata": {},
   "outputs": [
    {
     "name": "stdout",
     "output_type": "stream",
     "text": [
      "           Date  Current Temp (C)\n",
      "0    2022-01-01         24.450000\n",
      "1    2022-01-02         23.303819\n",
      "2    2022-01-03         23.350694\n",
      "3    2022-01-04         23.412847\n",
      "4    2022-01-05         23.069444\n",
      "..          ...               ...\n",
      "359  2022-12-26               NaN\n",
      "360  2022-12-27               NaN\n",
      "361  2022-12-28               NaN\n",
      "362  2022-12-29               NaN\n",
      "363  2022-12-30               NaN\n",
      "\n",
      "[364 rows x 2 columns]\n"
     ]
    }
   ],
   "source": [
    "new_table = df.groupby('Date', as_index=False, sort=False)['Current Temp (C)'].mean()\n",
    "new_new_table = df.groupby('Date', as_index=False, sort=False)['Current Humidity (%RH)'].mean()\n",
    "\n",
    "\n",
    "print(new_table)\n",
    "new_new_table\n",
    "\n",
    "\n",
    "result = pd.concat([new_table, new_new_table[\"Current Humidity (%RH)\"]], axis=1, join=\"inner\")"
   ]
  },
  {
   "cell_type": "code",
   "execution_count": 8,
   "id": "43187e5c",
   "metadata": {},
   "outputs": [
    {
     "data": {
      "text/html": [
       "<div>\n",
       "<style scoped>\n",
       "    .dataframe tbody tr th:only-of-type {\n",
       "        vertical-align: middle;\n",
       "    }\n",
       "\n",
       "    .dataframe tbody tr th {\n",
       "        vertical-align: top;\n",
       "    }\n",
       "\n",
       "    .dataframe thead th {\n",
       "        text-align: right;\n",
       "    }\n",
       "</style>\n",
       "<table border=\"1\" class=\"dataframe\">\n",
       "  <thead>\n",
       "    <tr style=\"text-align: right;\">\n",
       "      <th></th>\n",
       "      <th>Date</th>\n",
       "      <th>Current Temp (C)</th>\n",
       "      <th>Current Humidity (%RH)</th>\n",
       "    </tr>\n",
       "  </thead>\n",
       "  <tbody>\n",
       "    <tr>\n",
       "      <th>0</th>\n",
       "      <td>2022-01-01</td>\n",
       "      <td>24.450000</td>\n",
       "      <td>36.281250</td>\n",
       "    </tr>\n",
       "    <tr>\n",
       "      <th>1</th>\n",
       "      <td>2022-01-02</td>\n",
       "      <td>23.303819</td>\n",
       "      <td>22.472222</td>\n",
       "    </tr>\n",
       "    <tr>\n",
       "      <th>2</th>\n",
       "      <td>2022-01-03</td>\n",
       "      <td>23.350694</td>\n",
       "      <td>18.142361</td>\n",
       "    </tr>\n",
       "    <tr>\n",
       "      <th>3</th>\n",
       "      <td>2022-01-04</td>\n",
       "      <td>23.412847</td>\n",
       "      <td>19.291667</td>\n",
       "    </tr>\n",
       "    <tr>\n",
       "      <th>4</th>\n",
       "      <td>2022-01-05</td>\n",
       "      <td>23.069444</td>\n",
       "      <td>21.909722</td>\n",
       "    </tr>\n",
       "    <tr>\n",
       "      <th>...</th>\n",
       "      <td>...</td>\n",
       "      <td>...</td>\n",
       "      <td>...</td>\n",
       "    </tr>\n",
       "    <tr>\n",
       "      <th>359</th>\n",
       "      <td>2022-12-26</td>\n",
       "      <td>NaN</td>\n",
       "      <td>NaN</td>\n",
       "    </tr>\n",
       "    <tr>\n",
       "      <th>360</th>\n",
       "      <td>2022-12-27</td>\n",
       "      <td>NaN</td>\n",
       "      <td>NaN</td>\n",
       "    </tr>\n",
       "    <tr>\n",
       "      <th>361</th>\n",
       "      <td>2022-12-28</td>\n",
       "      <td>NaN</td>\n",
       "      <td>NaN</td>\n",
       "    </tr>\n",
       "    <tr>\n",
       "      <th>362</th>\n",
       "      <td>2022-12-29</td>\n",
       "      <td>NaN</td>\n",
       "      <td>NaN</td>\n",
       "    </tr>\n",
       "    <tr>\n",
       "      <th>363</th>\n",
       "      <td>2022-12-30</td>\n",
       "      <td>NaN</td>\n",
       "      <td>NaN</td>\n",
       "    </tr>\n",
       "  </tbody>\n",
       "</table>\n",
       "<p>364 rows × 3 columns</p>\n",
       "</div>"
      ],
      "text/plain": [
       "           Date  Current Temp (C)  Current Humidity (%RH)\n",
       "0    2022-01-01         24.450000               36.281250\n",
       "1    2022-01-02         23.303819               22.472222\n",
       "2    2022-01-03         23.350694               18.142361\n",
       "3    2022-01-04         23.412847               19.291667\n",
       "4    2022-01-05         23.069444               21.909722\n",
       "..          ...               ...                     ...\n",
       "359  2022-12-26               NaN                     NaN\n",
       "360  2022-12-27               NaN                     NaN\n",
       "361  2022-12-28               NaN                     NaN\n",
       "362  2022-12-29               NaN                     NaN\n",
       "363  2022-12-30               NaN                     NaN\n",
       "\n",
       "[364 rows x 3 columns]"
      ]
     },
     "execution_count": 8,
     "metadata": {},
     "output_type": "execute_result"
    }
   ],
   "source": [
    "result"
   ]
  },
  {
   "cell_type": "code",
   "execution_count": 207,
   "id": "e146f741",
   "metadata": {},
   "outputs": [],
   "source": [
    "temp_plot = result.hvplot(x = 'Date', y = 'Current Temp (C)')"
   ]
  },
  {
   "cell_type": "code",
   "execution_count": 208,
   "id": "38f175f9",
   "metadata": {},
   "outputs": [
    {
     "data": {},
     "metadata": {},
     "output_type": "display_data"
    },
    {
     "data": {
      "application/vnd.holoviews_exec.v0+json": "",
      "text/html": [
       "<div id='11336'>\n",
       "\n",
       "\n",
       "\n",
       "\n",
       "\n",
       "  <div class=\"bk-root\" id=\"0ca2ab83-3525-4e7c-8932-df459d60d8cc\" data-root-id=\"11336\"></div>\n",
       "</div>\n",
       "<script type=\"application/javascript\">(function(root) {\n",
       "  function embed_document(root) {\n",
       "    var docs_json = {\"56d4b928-0c54-41ff-8d36-dc0b3cdc0084\":{\"defs\":[{\"extends\":null,\"module\":null,\"name\":\"ReactiveHTML1\",\"overrides\":[],\"properties\":[]},{\"extends\":null,\"module\":null,\"name\":\"FlexBox1\",\"overrides\":[],\"properties\":[{\"default\":\"flex-start\",\"kind\":null,\"name\":\"align_content\"},{\"default\":\"flex-start\",\"kind\":null,\"name\":\"align_items\"},{\"default\":\"row\",\"kind\":null,\"name\":\"flex_direction\"},{\"default\":\"wrap\",\"kind\":null,\"name\":\"flex_wrap\"},{\"default\":\"flex-start\",\"kind\":null,\"name\":\"justify_content\"}]},{\"extends\":null,\"module\":null,\"name\":\"GridStack1\",\"overrides\":[],\"properties\":[{\"default\":\"warn\",\"kind\":null,\"name\":\"mode\"},{\"default\":null,\"kind\":null,\"name\":\"ncols\"},{\"default\":null,\"kind\":null,\"name\":\"nrows\"},{\"default\":true,\"kind\":null,\"name\":\"allow_resize\"},{\"default\":true,\"kind\":null,\"name\":\"allow_drag\"},{\"default\":[],\"kind\":null,\"name\":\"state\"}]},{\"extends\":null,\"module\":null,\"name\":\"click1\",\"overrides\":[],\"properties\":[{\"default\":\"\",\"kind\":null,\"name\":\"terminal_output\"},{\"default\":\"\",\"kind\":null,\"name\":\"debug_name\"},{\"default\":0,\"kind\":null,\"name\":\"clears\"}]},{\"extends\":null,\"module\":null,\"name\":\"TemplateActions1\",\"overrides\":[],\"properties\":[{\"default\":0,\"kind\":null,\"name\":\"open_modal\"},{\"default\":0,\"kind\":null,\"name\":\"close_modal\"}]},{\"extends\":null,\"module\":null,\"name\":\"MaterialTemplateActions1\",\"overrides\":[],\"properties\":[{\"default\":0,\"kind\":null,\"name\":\"open_modal\"},{\"default\":0,\"kind\":null,\"name\":\"close_modal\"}]}],\"roots\":{\"references\":[{\"attributes\":{},\"id\":\"11393\",\"type\":\"UnionRenderers\"},{\"attributes\":{\"axis_label\":\"Current Temp (C)\",\"coordinates\":null,\"formatter\":{\"id\":\"11384\"},\"group\":null,\"major_label_policy\":{\"id\":\"11385\"},\"ticker\":{\"id\":\"11355\"}},\"id\":\"11354\",\"type\":\"LinearAxis\"},{\"attributes\":{\"margin\":[5,5,5,5],\"name\":\"HSpacer26793\",\"sizing_mode\":\"stretch_width\"},\"id\":\"11337\",\"type\":\"Spacer\"},{\"attributes\":{},\"id\":\"11407\",\"type\":\"YearsTicker\"},{\"attributes\":{},\"id\":\"11359\",\"type\":\"PanTool\"},{\"attributes\":{\"children\":[{\"id\":\"11337\"},{\"id\":\"11341\"},{\"id\":\"11430\"}],\"margin\":[0,0,0,0],\"name\":\"Row26789\",\"tags\":[\"embedded\"]},\"id\":\"11336\",\"type\":\"Row\"},{\"attributes\":{\"axis\":{\"id\":\"11354\"},\"coordinates\":null,\"dimension\":1,\"grid_line_color\":null,\"group\":null,\"ticker\":null},\"id\":\"11357\",\"type\":\"Grid\"},{\"attributes\":{},\"id\":\"11384\",\"type\":\"BasicTickFormatter\"},{\"attributes\":{},\"id\":\"11355\",\"type\":\"BasicTicker\"},{\"attributes\":{},\"id\":\"11360\",\"type\":\"WheelZoomTool\"},{\"attributes\":{},\"id\":\"11358\",\"type\":\"SaveTool\"},{\"attributes\":{},\"id\":\"11346\",\"type\":\"LinearScale\"},{\"attributes\":{},\"id\":\"11382\",\"type\":\"AllLabels\"},{\"attributes\":{\"overlay\":{\"id\":\"11363\"}},\"id\":\"11361\",\"type\":\"BoxZoomTool\"},{\"attributes\":{},\"id\":\"11362\",\"type\":\"ResetTool\"},{\"attributes\":{\"bottom_units\":\"screen\",\"coordinates\":null,\"fill_alpha\":0.5,\"fill_color\":\"lightgrey\",\"group\":null,\"left_units\":\"screen\",\"level\":\"overlay\",\"line_alpha\":1.0,\"line_color\":\"black\",\"line_dash\":[4,4],\"line_width\":2,\"right_units\":\"screen\",\"syncable\":false,\"top_units\":\"screen\"},\"id\":\"11363\",\"type\":\"BoxAnnotation\"},{\"attributes\":{\"num_minor_ticks\":5,\"tickers\":[{\"id\":\"11396\"},{\"id\":\"11397\"},{\"id\":\"11398\"},{\"id\":\"11399\"},{\"id\":\"11400\"},{\"id\":\"11401\"},{\"id\":\"11402\"},{\"id\":\"11403\"},{\"id\":\"11404\"},{\"id\":\"11405\"},{\"id\":\"11406\"},{\"id\":\"11407\"}]},\"id\":\"11351\",\"type\":\"DatetimeTicker\"},{\"attributes\":{\"callback\":null,\"formatters\":{\"@{Date}\":\"datetime\"},\"renderers\":[{\"id\":\"11377\"}],\"tags\":[\"hv_created\"],\"tooltips\":[[\"Date\",\"@{Date}{%F %T}\"],[\"Current Temp (C)\",\"@{Current_Temp_left_parenthesis_C_right_parenthesis}\"]]},\"id\":\"11340\",\"type\":\"HoverTool\"},{\"attributes\":{},\"id\":\"11381\",\"type\":\"DatetimeTickFormatter\"},{\"attributes\":{\"coordinates\":null,\"data_source\":{\"id\":\"11371\"},\"glyph\":{\"id\":\"11374\"},\"group\":null,\"hover_glyph\":null,\"muted_glyph\":{\"id\":\"11376\"},\"nonselection_glyph\":{\"id\":\"11375\"},\"selection_glyph\":{\"id\":\"11379\"},\"view\":{\"id\":\"11378\"}},\"id\":\"11377\",\"type\":\"GlyphRenderer\"},{\"attributes\":{\"source\":{\"id\":\"11371\"}},\"id\":\"11378\",\"type\":\"CDSView\"},{\"attributes\":{\"below\":[{\"id\":\"11350\"}],\"center\":[{\"id\":\"11353\"},{\"id\":\"11357\"}],\"height\":300,\"left\":[{\"id\":\"11354\"}],\"margin\":[5,5,5,5],\"min_border_bottom\":10,\"min_border_left\":10,\"min_border_right\":10,\"min_border_top\":10,\"renderers\":[{\"id\":\"11377\"}],\"sizing_mode\":\"fixed\",\"title\":{\"id\":\"11342\"},\"toolbar\":{\"id\":\"11364\"},\"width\":700,\"x_range\":{\"id\":\"11338\"},\"x_scale\":{\"id\":\"11346\"},\"y_range\":{\"id\":\"11339\"},\"y_scale\":{\"id\":\"11348\"}},\"id\":\"11341\",\"subtype\":\"Figure\",\"type\":\"Plot\"},{\"attributes\":{\"line_alpha\":0.1,\"line_color\":\"#30a2da\",\"line_width\":2,\"x\":{\"field\":\"Date\"},\"y\":{\"field\":\"Current Temp (C)\"}},\"id\":\"11375\",\"type\":\"Line\"},{\"attributes\":{\"end\":27.149722222222223,\"reset_end\":27.149722222222223,\"reset_start\":20.153055555555554,\"start\":20.153055555555554,\"tags\":[[[\"Current Temp (C)\",\"Current Temp (C)\",null]]]},\"id\":\"11339\",\"type\":\"Range1d\"},{\"attributes\":{\"mantissas\":[1,2,5],\"max_interval\":500.0,\"num_minor_ticks\":0},\"id\":\"11396\",\"type\":\"AdaptiveTicker\"},{\"attributes\":{\"base\":60,\"mantissas\":[1,2,5,10,15,20,30],\"max_interval\":1800000.0,\"min_interval\":1000.0,\"num_minor_ticks\":0},\"id\":\"11397\",\"type\":\"AdaptiveTicker\"},{\"attributes\":{\"base\":24,\"mantissas\":[1,2,4,6,8,12],\"max_interval\":43200000.0,\"min_interval\":3600000.0,\"num_minor_ticks\":0},\"id\":\"11398\",\"type\":\"AdaptiveTicker\"},{\"attributes\":{\"margin\":[5,5,5,5],\"name\":\"HSpacer26794\",\"sizing_mode\":\"stretch_width\"},\"id\":\"11430\",\"type\":\"Spacer\"},{\"attributes\":{\"months\":[0,1,2,3,4,5,6,7,8,9,10,11]},\"id\":\"11403\",\"type\":\"MonthsTicker\"},{\"attributes\":{\"data\":{\"Current Temp (C)\":{\"__ndarray__\":\"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\",\"dtype\":\"float64\",\"order\":\"little\",\"shape\":[364]},\"Current_Temp_left_parenthesis_C_right_parenthesis\":{\"__ndarray__\":\"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\",\"dtype\":\"float64\",\"order\":\"little\",\"shape\":[364]},\"Date\":{\"__ndarray__\":\"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\",\"dtype\":\"float64\",\"order\":\"little\",\"shape\":[364]}},\"selected\":{\"id\":\"11372\"},\"selection_policy\":{\"id\":\"11393\"}},\"id\":\"11371\",\"type\":\"ColumnDataSource\"},{\"attributes\":{},\"id\":\"11385\",\"type\":\"AllLabels\"},{\"attributes\":{\"tools\":[{\"id\":\"11340\"},{\"id\":\"11358\"},{\"id\":\"11359\"},{\"id\":\"11360\"},{\"id\":\"11361\"},{\"id\":\"11362\"}]},\"id\":\"11364\",\"type\":\"Toolbar\"},{\"attributes\":{\"days\":[1,2,3,4,5,6,7,8,9,10,11,12,13,14,15,16,17,18,19,20,21,22,23,24,25,26,27,28,29,30,31]},\"id\":\"11399\",\"type\":\"DaysTicker\"},{\"attributes\":{\"days\":[1,15]},\"id\":\"11402\",\"type\":\"DaysTicker\"},{\"attributes\":{\"days\":[1,4,7,10,13,16,19,22,25,28]},\"id\":\"11400\",\"type\":\"DaysTicker\"},{\"attributes\":{\"coordinates\":null,\"group\":null,\"text_color\":\"black\",\"text_font_size\":\"12pt\"},\"id\":\"11342\",\"type\":\"Title\"},{\"attributes\":{\"days\":[1,8,15,22]},\"id\":\"11401\",\"type\":\"DaysTicker\"},{\"attributes\":{\"axis_label\":\"Date\",\"coordinates\":null,\"formatter\":{\"id\":\"11381\"},\"group\":null,\"major_label_policy\":{\"id\":\"11382\"},\"ticker\":{\"id\":\"11351\"}},\"id\":\"11350\",\"type\":\"DatetimeAxis\"},{\"attributes\":{\"months\":[0,6]},\"id\":\"11406\",\"type\":\"MonthsTicker\"},{\"attributes\":{\"axis\":{\"id\":\"11350\"},\"coordinates\":null,\"grid_line_color\":null,\"group\":null,\"ticker\":null},\"id\":\"11353\",\"type\":\"Grid\"},{\"attributes\":{\"months\":[0,2,4,6,8,10]},\"id\":\"11404\",\"type\":\"MonthsTicker\"},{\"attributes\":{},\"id\":\"11372\",\"type\":\"Selection\"},{\"attributes\":{\"end\":1672358400000.0,\"reset_end\":1672358400000.0,\"reset_start\":1640995200000.0,\"start\":1640995200000.0,\"tags\":[[[\"Date\",\"Date\",null]]]},\"id\":\"11338\",\"type\":\"Range1d\"},{\"attributes\":{\"line_alpha\":0.2,\"line_color\":\"#30a2da\",\"line_width\":2,\"x\":{\"field\":\"Date\"},\"y\":{\"field\":\"Current Temp (C)\"}},\"id\":\"11376\",\"type\":\"Line\"},{\"attributes\":{\"months\":[0,4,8]},\"id\":\"11405\",\"type\":\"MonthsTicker\"},{\"attributes\":{},\"id\":\"11348\",\"type\":\"LinearScale\"},{\"attributes\":{\"line_color\":\"#30a2da\",\"line_width\":2,\"x\":{\"field\":\"Date\"},\"y\":{\"field\":\"Current Temp (C)\"}},\"id\":\"11374\",\"type\":\"Line\"},{\"attributes\":{\"line_color\":\"#30a2da\",\"line_width\":2,\"x\":{\"field\":\"Date\"},\"y\":{\"field\":\"Current Temp (C)\"}},\"id\":\"11379\",\"type\":\"Line\"}],\"root_ids\":[\"11336\"]},\"title\":\"Bokeh Application\",\"version\":\"2.4.2\"}};\n",
       "    var render_items = [{\"docid\":\"56d4b928-0c54-41ff-8d36-dc0b3cdc0084\",\"root_ids\":[\"11336\"],\"roots\":{\"11336\":\"0ca2ab83-3525-4e7c-8932-df459d60d8cc\"}}];\n",
       "    root.Bokeh.embed.embed_items_notebook(docs_json, render_items);\n",
       "  }\n",
       "  if (root.Bokeh !== undefined && root.Bokeh.Panel !== undefined && ( root['Tabulator'] !== undefined)) {\n",
       "    embed_document(root);\n",
       "  } else {\n",
       "    var attempts = 0;\n",
       "    var timer = setInterval(function(root) {\n",
       "      if (root.Bokeh !== undefined && root.Bokeh.Panel !== undefined && (root['Tabulator'] !== undefined)) {\n",
       "        clearInterval(timer);\n",
       "        embed_document(root);\n",
       "      } else if (document.readyState == \"complete\") {\n",
       "        attempts++;\n",
       "        if (attempts > 200) {\n",
       "          clearInterval(timer);\n",
       "          console.log(\"Bokeh: ERROR: Unable to run BokehJS code because BokehJS library is missing\");\n",
       "        }\n",
       "      }\n",
       "    }, 25, root)\n",
       "  }\n",
       "})(window);</script>"
      ],
      "text/plain": [
       ":Curve   [Date]   (Current Temp (C))"
      ]
     },
     "execution_count": 208,
     "metadata": {
      "application/vnd.holoviews_exec.v0+json": {
       "id": "11336"
      }
     },
     "output_type": "execute_result"
    }
   ],
   "source": [
    "temp_plot"
   ]
  },
  {
   "cell_type": "code",
   "execution_count": 11,
   "id": "3800353d",
   "metadata": {},
   "outputs": [
    {
     "data": {
      "text/plain": [
       "0         0.0\n",
       "1         0.0\n",
       "2         0.0\n",
       "3         0.0\n",
       "4         0.0\n",
       "         ... \n",
       "104827    NaN\n",
       "104828    NaN\n",
       "104829    NaN\n",
       "104830    NaN\n",
       "104831    NaN\n",
       "Name: Fan (sec), Length: 104832, dtype: float64"
      ]
     },
     "execution_count": 11,
     "metadata": {},
     "output_type": "execute_result"
    }
   ],
   "source": [
    "df[\"Fan (sec)\"]"
   ]
  },
  {
   "cell_type": "code",
   "execution_count": 45,
   "id": "204845ff",
   "metadata": {},
   "outputs": [
    {
     "data": {
      "text/plain": [
       "str"
      ]
     },
     "execution_count": 45,
     "metadata": {},
     "output_type": "execute_result"
    }
   ],
   "source": [
    "type(df.Date[0])"
   ]
  },
  {
   "cell_type": "code",
   "execution_count": 187,
   "id": "2267da46",
   "metadata": {},
   "outputs": [],
   "source": [
    "df = df.interactive()"
   ]
  },
  {
   "cell_type": "markdown",
   "id": "2592715a",
   "metadata": {},
   "source": [
    "# Effect of Fan on the Temperature"
   ]
  },
  {
   "cell_type": "code",
   "execution_count": 188,
   "id": "fbac03d1",
   "metadata": {},
   "outputs": [
    {
     "data": {},
     "metadata": {},
     "output_type": "display_data"
    },
    {
     "data": {
      "application/vnd.holoviews_exec.v0+json": "",
      "text/html": [
       "<div id='8086'>\n",
       "\n",
       "\n",
       "\n",
       "\n",
       "\n",
       "  <div class=\"bk-root\" id=\"aabf80bc-dbbb-418b-8623-3a5878ba98df\" data-root-id=\"8086\"></div>\n",
       "</div>\n",
       "<script type=\"application/javascript\">(function(root) {\n",
       "  function embed_document(root) {\n",
       "    var docs_json = {\"66fb3c7b-f296-4c73-813a-9db64f273f71\":{\"defs\":[{\"extends\":null,\"module\":null,\"name\":\"ReactiveHTML1\",\"overrides\":[],\"properties\":[]},{\"extends\":null,\"module\":null,\"name\":\"FlexBox1\",\"overrides\":[],\"properties\":[{\"default\":\"flex-start\",\"kind\":null,\"name\":\"align_content\"},{\"default\":\"flex-start\",\"kind\":null,\"name\":\"align_items\"},{\"default\":\"row\",\"kind\":null,\"name\":\"flex_direction\"},{\"default\":\"wrap\",\"kind\":null,\"name\":\"flex_wrap\"},{\"default\":\"flex-start\",\"kind\":null,\"name\":\"justify_content\"}]},{\"extends\":null,\"module\":null,\"name\":\"GridStack1\",\"overrides\":[],\"properties\":[{\"default\":\"warn\",\"kind\":null,\"name\":\"mode\"},{\"default\":null,\"kind\":null,\"name\":\"ncols\"},{\"default\":null,\"kind\":null,\"name\":\"nrows\"},{\"default\":true,\"kind\":null,\"name\":\"allow_resize\"},{\"default\":true,\"kind\":null,\"name\":\"allow_drag\"},{\"default\":[],\"kind\":null,\"name\":\"state\"}]},{\"extends\":null,\"module\":null,\"name\":\"click1\",\"overrides\":[],\"properties\":[{\"default\":\"\",\"kind\":null,\"name\":\"terminal_output\"},{\"default\":\"\",\"kind\":null,\"name\":\"debug_name\"},{\"default\":0,\"kind\":null,\"name\":\"clears\"}]},{\"extends\":null,\"module\":null,\"name\":\"TemplateActions1\",\"overrides\":[],\"properties\":[{\"default\":0,\"kind\":null,\"name\":\"open_modal\"},{\"default\":0,\"kind\":null,\"name\":\"close_modal\"}]},{\"extends\":null,\"module\":null,\"name\":\"MaterialTemplateActions1\",\"overrides\":[],\"properties\":[{\"default\":0,\"kind\":null,\"name\":\"open_modal\"},{\"default\":0,\"kind\":null,\"name\":\"close_modal\"}]}],\"roots\":{\"references\":[{\"attributes\":{\"client_comm_id\":\"4f0f3d8630784bb8858f90540908f954\",\"comm_id\":\"d18e0bdbfd274e2ebc7a0ebcc66ee0d5\",\"plot_id\":\"8086\"},\"id\":\"8087\",\"type\":\"panel.models.comm_manager.CommManager\"},{\"attributes\":{\"end\":1671321600000.0,\"margin\":[5,10,5,10],\"start\":1656460800000.0,\"title\":\"Date Slider\",\"value\":1656460800000.0},\"id\":\"8086\",\"type\":\"DateSlider\"}],\"root_ids\":[\"8086\",\"8087\"]},\"title\":\"Bokeh Application\",\"version\":\"2.4.2\"}};\n",
       "    var render_items = [{\"docid\":\"66fb3c7b-f296-4c73-813a-9db64f273f71\",\"root_ids\":[\"8086\"],\"roots\":{\"8086\":\"aabf80bc-dbbb-418b-8623-3a5878ba98df\"}}];\n",
       "    root.Bokeh.embed.embed_items_notebook(docs_json, render_items);\n",
       "  }\n",
       "  if (root.Bokeh !== undefined && root.Bokeh.Panel !== undefined && ( root['Tabulator'] !== undefined)) {\n",
       "    embed_document(root);\n",
       "  } else {\n",
       "    var attempts = 0;\n",
       "    var timer = setInterval(function(root) {\n",
       "      if (root.Bokeh !== undefined && root.Bokeh.Panel !== undefined && (root['Tabulator'] !== undefined)) {\n",
       "        clearInterval(timer);\n",
       "        embed_document(root);\n",
       "      } else if (document.readyState == \"complete\") {\n",
       "        attempts++;\n",
       "        if (attempts > 200) {\n",
       "          clearInterval(timer);\n",
       "          console.log(\"Bokeh: ERROR: Unable to run BokehJS code because BokehJS library is missing\");\n",
       "        }\n",
       "      }\n",
       "    }, 25, root)\n",
       "  }\n",
       "})(window);</script>"
      ],
      "text/plain": [
       "DateSlider(end=datetime.datetime(2022, ..., name='Date Slider', start=datetime.datetime(2022, ..., value=datetime.datetime(2022, ...)"
      ]
     },
     "execution_count": 188,
     "metadata": {
      "application/vnd.holoviews_exec.v0+json": {
       "id": "8086"
      }
     },
     "output_type": "execute_result"
    }
   ],
   "source": [
    "# Define Panel widgets\n",
    "date_slider = pn.widgets.DateSlider(name='Date Slider', start=dt.datetime(2022, 6, 29), end=dt.datetime(2022, 12, 18), value=dt.datetime(2022, 6, 29))\n",
    "\n",
    "date_slider"
   ]
  },
  {
   "cell_type": "code",
   "execution_count": 189,
   "id": "efd0b9f0",
   "metadata": {},
   "outputs": [
    {
     "data": {},
     "metadata": {},
     "output_type": "display_data"
    },
    {
     "data": {
      "application/vnd.holoviews_exec.v0+json": "",
      "text/html": [
       "<div id='8088'>\n",
       "\n",
       "\n",
       "\n",
       "\n",
       "\n",
       "  <div class=\"bk-root\" id=\"bbe9db91-8a17-49a7-8eb1-22eb5cf0797a\" data-root-id=\"8088\"></div>\n",
       "</div>\n",
       "<script type=\"application/javascript\">(function(root) {\n",
       "  function embed_document(root) {\n",
       "    var docs_json = {\"8affe39a-12a2-47c2-b7cd-cde015172dba\":{\"defs\":[{\"extends\":null,\"module\":null,\"name\":\"ReactiveHTML1\",\"overrides\":[],\"properties\":[]},{\"extends\":null,\"module\":null,\"name\":\"FlexBox1\",\"overrides\":[],\"properties\":[{\"default\":\"flex-start\",\"kind\":null,\"name\":\"align_content\"},{\"default\":\"flex-start\",\"kind\":null,\"name\":\"align_items\"},{\"default\":\"row\",\"kind\":null,\"name\":\"flex_direction\"},{\"default\":\"wrap\",\"kind\":null,\"name\":\"flex_wrap\"},{\"default\":\"flex-start\",\"kind\":null,\"name\":\"justify_content\"}]},{\"extends\":null,\"module\":null,\"name\":\"GridStack1\",\"overrides\":[],\"properties\":[{\"default\":\"warn\",\"kind\":null,\"name\":\"mode\"},{\"default\":null,\"kind\":null,\"name\":\"ncols\"},{\"default\":null,\"kind\":null,\"name\":\"nrows\"},{\"default\":true,\"kind\":null,\"name\":\"allow_resize\"},{\"default\":true,\"kind\":null,\"name\":\"allow_drag\"},{\"default\":[],\"kind\":null,\"name\":\"state\"}]},{\"extends\":null,\"module\":null,\"name\":\"click1\",\"overrides\":[],\"properties\":[{\"default\":\"\",\"kind\":null,\"name\":\"terminal_output\"},{\"default\":\"\",\"kind\":null,\"name\":\"debug_name\"},{\"default\":0,\"kind\":null,\"name\":\"clears\"}]},{\"extends\":null,\"module\":null,\"name\":\"TemplateActions1\",\"overrides\":[],\"properties\":[{\"default\":0,\"kind\":null,\"name\":\"open_modal\"},{\"default\":0,\"kind\":null,\"name\":\"close_modal\"}]},{\"extends\":null,\"module\":null,\"name\":\"MaterialTemplateActions1\",\"overrides\":[],\"properties\":[{\"default\":0,\"kind\":null,\"name\":\"open_modal\"},{\"default\":0,\"kind\":null,\"name\":\"close_modal\"}]}],\"roots\":{\"references\":[{\"attributes\":{\"client_comm_id\":\"4e004c4fced644738a377baf6aa2696a\",\"comm_id\":\"76c9066076d74e4499b7562fd8232876\",\"plot_id\":\"8088\"},\"id\":\"8089\",\"type\":\"panel.models.comm_manager.CommManager\"},{\"attributes\":{\"active\":0,\"button_type\":\"success\",\"labels\":[\"Current Temp (C)\",\"Current Humidity (%RH)\"],\"margin\":[5,10,5,10]},\"id\":\"8088\",\"type\":\"RadioButtonGroup\"}],\"root_ids\":[\"8088\",\"8089\"]},\"title\":\"Bokeh Application\",\"version\":\"2.4.2\"}};\n",
       "    var render_items = [{\"docid\":\"8affe39a-12a2-47c2-b7cd-cde015172dba\",\"root_ids\":[\"8088\"],\"roots\":{\"8088\":\"bbe9db91-8a17-49a7-8eb1-22eb5cf0797a\"}}];\n",
       "    root.Bokeh.embed.embed_items_notebook(docs_json, render_items);\n",
       "  }\n",
       "  if (root.Bokeh !== undefined && root.Bokeh.Panel !== undefined && ( root['Tabulator'] !== undefined)) {\n",
       "    embed_document(root);\n",
       "  } else {\n",
       "    var attempts = 0;\n",
       "    var timer = setInterval(function(root) {\n",
       "      if (root.Bokeh !== undefined && root.Bokeh.Panel !== undefined && (root['Tabulator'] !== undefined)) {\n",
       "        clearInterval(timer);\n",
       "        embed_document(root);\n",
       "      } else if (document.readyState == \"complete\") {\n",
       "        attempts++;\n",
       "        if (attempts > 200) {\n",
       "          clearInterval(timer);\n",
       "          console.log(\"Bokeh: ERROR: Unable to run BokehJS code because BokehJS library is missing\");\n",
       "        }\n",
       "      }\n",
       "    }, 25, root)\n",
       "  }\n",
       "})(window);</script>"
      ],
      "text/plain": [
       "RadioButtonGroup(button_type='success', name='Y axis', options=['Current Temp (C)', ...], value='Current Temp (C)')"
      ]
     },
     "execution_count": 189,
     "metadata": {
      "application/vnd.holoviews_exec.v0+json": {
       "id": "8088"
      }
     },
     "output_type": "execute_result"
    }
   ],
   "source": [
    "\n",
    "yaxis_fan = pn.widgets.RadioButtonGroup(\n",
    "    name='Y axis', \n",
    "    options=['Current Temp (C)', 'Current Humidity (%RH)',],\n",
    "    button_type='success'\n",
    ")\n",
    "yaxis_fan\n",
    "\n"
   ]
  },
  {
   "cell_type": "code",
   "execution_count": 190,
   "id": "f8f97060",
   "metadata": {},
   "outputs": [
    {
     "data": {},
     "metadata": {},
     "output_type": "display_data"
    },
    {
     "data": {
      "application/vnd.holoviews_exec.v0+json": "",
      "text/html": [
       "<div id='8090'>\n",
       "\n",
       "\n",
       "\n",
       "\n",
       "\n",
       "  <div class=\"bk-root\" id=\"37a7bf6b-1b67-48a7-8241-806f094e6786\" data-root-id=\"8090\"></div>\n",
       "</div>\n",
       "<script type=\"application/javascript\">(function(root) {\n",
       "  function embed_document(root) {\n",
       "    var docs_json = {\"b7842114-476e-4b48-ab3b-8289572f2227\":{\"defs\":[{\"extends\":null,\"module\":null,\"name\":\"ReactiveHTML1\",\"overrides\":[],\"properties\":[]},{\"extends\":null,\"module\":null,\"name\":\"FlexBox1\",\"overrides\":[],\"properties\":[{\"default\":\"flex-start\",\"kind\":null,\"name\":\"align_content\"},{\"default\":\"flex-start\",\"kind\":null,\"name\":\"align_items\"},{\"default\":\"row\",\"kind\":null,\"name\":\"flex_direction\"},{\"default\":\"wrap\",\"kind\":null,\"name\":\"flex_wrap\"},{\"default\":\"flex-start\",\"kind\":null,\"name\":\"justify_content\"}]},{\"extends\":null,\"module\":null,\"name\":\"GridStack1\",\"overrides\":[],\"properties\":[{\"default\":\"warn\",\"kind\":null,\"name\":\"mode\"},{\"default\":null,\"kind\":null,\"name\":\"ncols\"},{\"default\":null,\"kind\":null,\"name\":\"nrows\"},{\"default\":true,\"kind\":null,\"name\":\"allow_resize\"},{\"default\":true,\"kind\":null,\"name\":\"allow_drag\"},{\"default\":[],\"kind\":null,\"name\":\"state\"}]},{\"extends\":null,\"module\":null,\"name\":\"click1\",\"overrides\":[],\"properties\":[{\"default\":\"\",\"kind\":null,\"name\":\"terminal_output\"},{\"default\":\"\",\"kind\":null,\"name\":\"debug_name\"},{\"default\":0,\"kind\":null,\"name\":\"clears\"}]},{\"extends\":null,\"module\":null,\"name\":\"TemplateActions1\",\"overrides\":[],\"properties\":[{\"default\":0,\"kind\":null,\"name\":\"open_modal\"},{\"default\":0,\"kind\":null,\"name\":\"close_modal\"}]},{\"extends\":null,\"module\":null,\"name\":\"MaterialTemplateActions1\",\"overrides\":[],\"properties\":[{\"default\":0,\"kind\":null,\"name\":\"open_modal\"},{\"default\":0,\"kind\":null,\"name\":\"close_modal\"}]}],\"roots\":{\"references\":[{\"attributes\":{\"client_comm_id\":\"270023767c164d61a0c44c91a6d47c57\",\"comm_id\":\"3874cdd10d064deb86ef56ccd6b95588\",\"plot_id\":\"8090\"},\"id\":\"8097\",\"type\":\"panel.models.comm_manager.CommManager\"},{\"attributes\":{\"children\":[{\"id\":\"8092\"},{\"id\":\"8095\"}],\"margin\":[0,0,0,0],\"name\":\"Column20499\"},\"id\":\"8091\",\"type\":\"Column\"},{\"attributes\":{\"children\":[{\"id\":\"8091\"}],\"margin\":[0,0,0,0],\"name\":\"Row20500\"},\"id\":\"8090\",\"type\":\"Row\"},{\"attributes\":{\"margin\":[5,5,5,5],\"name\":\"DataFrame20495\",\"text\":\"&lt;table border=&quot;0&quot; class=&quot;dataframe panel-df&quot;&gt;\\n  &lt;thead&gt;\\n    &lt;tr style=&quot;text-align: right;&quot;&gt;\\n      &lt;th&gt;&lt;/th&gt;\\n      &lt;th&gt;Date&lt;/th&gt;\\n      &lt;th&gt;Time&lt;/th&gt;\\n      &lt;th&gt;System Setting&lt;/th&gt;\\n      &lt;th&gt;System Mode&lt;/th&gt;\\n      &lt;th&gt;Calendar Event&lt;/th&gt;\\n      &lt;th&gt;Program Mode&lt;/th&gt;\\n      &lt;th&gt;Cool Set Temp (C)&lt;/th&gt;\\n      &lt;th&gt;Heat Set Temp (C)&lt;/th&gt;\\n      &lt;th&gt;Current Temp (C)&lt;/th&gt;\\n      &lt;th&gt;Current Humidity (%RH)&lt;/th&gt;\\n      &lt;th&gt;Outdoor Temp (C)&lt;/th&gt;\\n      &lt;th&gt;Wind Speed (km/h)&lt;/th&gt;\\n      &lt;th&gt;Cool Stage 1 (sec)&lt;/th&gt;\\n      &lt;th&gt;Heat Stage 1 (sec)&lt;/th&gt;\\n      &lt;th&gt;Fan (sec)&lt;/th&gt;\\n      &lt;th&gt;DM Offset&lt;/th&gt;\\n      &lt;th&gt;Thermostat Temperature (C)&lt;/th&gt;\\n      &lt;th&gt;Thermostat Humidity (%RH)&lt;/th&gt;\\n      &lt;th&gt;Thermostat Motion&lt;/th&gt;\\n      &lt;th&gt;Thermostat AirQualityAccuracy&lt;/th&gt;\\n      &lt;th&gt;Thermostat AirQuality&lt;/th&gt;\\n      &lt;th&gt;Thermostat VOCppm&lt;/th&gt;\\n      &lt;th&gt;Thermostat CO2ppm&lt;/th&gt;\\n      &lt;th&gt;Thermostat AirPressure&lt;/th&gt;\\n      &lt;th&gt;Gym (C)&lt;/th&gt;\\n      &lt;th&gt;Gym2&lt;/th&gt;\\n      &lt;th&gt;tempOffice (C)&lt;/th&gt;\\n      &lt;th&gt;tempOffice2&lt;/th&gt;\\n      &lt;th&gt;tempLoft (C)&lt;/th&gt;\\n      &lt;th&gt;tempLoft2&lt;/th&gt;\\n      &lt;th&gt;tempMainBedroom (C)&lt;/th&gt;\\n      &lt;th&gt;tempMainBedroom2&lt;/th&gt;\\n      &lt;th&gt;tempLivingRoom (C)&lt;/th&gt;\\n      &lt;th&gt;tempLivingRoom2&lt;/th&gt;\\n      &lt;th&gt;Back window (contact)&lt;/th&gt;\\n      &lt;th&gt;Main Bedroom window (contact)&lt;/th&gt;\\n      &lt;th&gt;Living Room window (contact)&lt;/th&gt;\\n      &lt;th&gt;Office window (contact)&lt;/th&gt;\\n      &lt;th&gt;Small Bedroom window (contact)&lt;/th&gt;\\n    &lt;/tr&gt;\\n  &lt;/thead&gt;\\n  &lt;tbody&gt;\\n  &lt;/tbody&gt;\\n&lt;/table&gt;\"},\"id\":\"8096\",\"type\":\"panel.models.markup.HTML\"},{\"attributes\":{\"children\":[{\"id\":\"8096\"}],\"margin\":[0,0,0,0],\"name\":\"Row20445\"},\"id\":\"8095\",\"type\":\"Row\"},{\"attributes\":{\"children\":[{\"id\":\"8093\"},{\"id\":\"8094\"}],\"margin\":[0,0,0,0],\"name\":\"Row20498\"},\"id\":\"8092\",\"type\":\"Row\"},{\"attributes\":{\"margin\":[5,5,5,5],\"name\":\"HSpacer20497\",\"sizing_mode\":\"stretch_width\"},\"id\":\"8094\",\"type\":\"Spacer\"},{\"attributes\":{\"margin\":[0,0,0,0],\"name\":\"Column20440\"},\"id\":\"8093\",\"type\":\"Column\"}],\"root_ids\":[\"8090\",\"8097\"]},\"title\":\"Bokeh Application\",\"version\":\"2.4.2\"}};\n",
       "    var render_items = [{\"docid\":\"b7842114-476e-4b48-ab3b-8289572f2227\",\"root_ids\":[\"8090\"],\"roots\":{\"8090\":\"37a7bf6b-1b67-48a7-8241-806f094e6786\"}}];\n",
       "    root.Bokeh.embed.embed_items_notebook(docs_json, render_items);\n",
       "  }\n",
       "  if (root.Bokeh !== undefined && root.Bokeh.Panel !== undefined && ( root['Tabulator'] !== undefined)) {\n",
       "    embed_document(root);\n",
       "  } else {\n",
       "    var attempts = 0;\n",
       "    var timer = setInterval(function(root) {\n",
       "      if (root.Bokeh !== undefined && root.Bokeh.Panel !== undefined && (root['Tabulator'] !== undefined)) {\n",
       "        clearInterval(timer);\n",
       "        embed_document(root);\n",
       "      } else if (document.readyState == \"complete\") {\n",
       "        attempts++;\n",
       "        if (attempts > 200) {\n",
       "          clearInterval(timer);\n",
       "          console.log(\"Bokeh: ERROR: Unable to run BokehJS code because BokehJS library is missing\");\n",
       "        }\n",
       "      }\n",
       "    }, 25, root)\n",
       "  }\n",
       "})(window);</script>"
      ],
      "text/plain": [
       "<hvplot.interactive.Interactive at 0x202f1927f70>"
      ]
     },
     "execution_count": 190,
     "metadata": {
      "application/vnd.holoviews_exec.v0+json": {
       "id": "8090"
      }
     },
     "output_type": "execute_result"
    }
   ],
   "source": [
    "\n",
    "\n",
    "fan_pipeline = df[(df.Date == date_slider.value)]\n",
    "\n",
    "\n",
    "fan_pipeline\n"
   ]
  },
  {
   "cell_type": "code",
   "execution_count": 191,
   "id": "b594bc05",
   "metadata": {},
   "outputs": [
    {
     "name": "stdout",
     "output_type": "stream",
     "text": [
      "Launching server at http://localhost:61266\n"
     ]
    },
    {
     "data": {
      "text/plain": [
       "<bokeh.server.server.Server at 0x202f15f7250>"
      ]
     },
     "execution_count": 191,
     "metadata": {},
     "output_type": "execute_result"
    },
    {
     "name": "stderr",
     "output_type": "stream",
     "text": [
      "WARNING:bokeh.core.validation.check:W-1002 (EMPTY_LAYOUT): Layout has no children: Column(id='8102', ...)\n"
     ]
    }
   ],
   "source": [
    "\n",
    "fan_plot = fan_pipeline.hvplot(x = 'Time', y= 'Current Temp (C)',line_width=2, title=\"help\")\n",
    "fan_plot\n",
    "\n",
    "widgets = pn.Column(date_slider, yaxis_fan)\n",
    "\n",
    "layout = pn.Row(fan_plot, widgets)\n",
    "\n",
    "layout.show()\n",
    "\n",
    "\n",
    "\n",
    "\n"
   ]
  },
  {
   "cell_type": "code",
   "execution_count": null,
   "id": "b019502c",
   "metadata": {},
   "outputs": [],
   "source": []
  },
  {
   "cell_type": "code",
   "execution_count": null,
   "id": "574abedd",
   "metadata": {},
   "outputs": [],
   "source": [
    "\n"
   ]
  },
  {
   "cell_type": "code",
   "execution_count": null,
   "id": "57060053",
   "metadata": {},
   "outputs": [],
   "source": []
  },
  {
   "cell_type": "code",
   "execution_count": 180,
   "id": "f40a7e20",
   "metadata": {},
   "outputs": [
    {
     "name": "stdout",
     "output_type": "stream",
     "text": [
      "Launching server at http://localhost:61230\n"
     ]
    },
    {
     "data": {
      "text/plain": [
       "<bokeh.server.server.Server at 0x202f19386d0>"
      ]
     },
     "execution_count": 180,
     "metadata": {},
     "output_type": "execute_result"
    }
   ],
   "source": [
    "\n",
    "#idf = df.interactive()\n",
    "date_slider = pn.widgets.DateSlider(name='Date Slider', start=dt.datetime(2022, 6, 29), end=dt.datetime(2022, 12, 18), value=dt.datetime(2022, 6, 29))\n",
    "\n",
    "yaxis_fan = pn.widgets.RadioButtonGroup(\n",
    "    name='Y axis', \n",
    "    options=['Current Temp (C)', 'Current Humidity (%RH)',],\n",
    "    button_type='success'\n",
    ")\n",
    "fan_pipeline = idf[(idf.Date == date_slider.value)]\n",
    "fan_pipeline\n",
    "\n",
    "\n",
    "\n",
    "\n",
    "fan_plot = fan_pipeline.hvplot(x =\"Time\", y=yaxis_fan ,line_width=2, title=\"help\")\n",
    "\n",
    "widgets = pn.Column(date_slider, yaxis_fan)\n",
    "\n",
    "layout = pn.Row(fan_plot, widgets)\n",
    "\n",
    "layout.show()"
   ]
  },
  {
   "cell_type": "code",
   "execution_count": null,
   "id": "8f3ee71e-b157-44ce-b179-b1e80be4c950",
   "metadata": {},
   "outputs": [],
   "source": []
  },
  {
   "cell_type": "code",
   "execution_count": 149,
   "id": "1a33ac5e-6a6a-4f64-b2ac-2a7b58498d31",
   "metadata": {},
   "outputs": [
    {
     "data": {
      "text/plain": [
       "0      00:00:00\n",
       "1      00:05:00\n",
       "2      00:10:00\n",
       "3      00:15:00\n",
       "4      00:20:00\n",
       "         ...   \n",
       "283    23:35:00\n",
       "284    23:40:00\n",
       "285    23:45:00\n",
       "286    23:50:00\n",
       "287    23:55:00\n",
       "Name: Time, Length: 288, dtype: object"
      ]
     },
     "execution_count": 149,
     "metadata": {},
     "output_type": "execute_result"
    }
   ],
   "source": [
    "df.loc[df.Date == dt.date(2022, 1, 1)].Time"
   ]
  },
  {
   "cell_type": "code",
   "execution_count": 161,
   "id": "989850e7-9148-48eb-b9cc-0442daea2b52",
   "metadata": {},
   "outputs": [
    {
     "data": {
      "text/plain": [
       "Series([], Name: Time, dtype: object)"
      ]
     },
     "execution_count": 161,
     "metadata": {},
     "output_type": "execute_result"
    }
   ],
   "source": [
    "fan_pipeline[\"Time\"]"
   ]
  },
  {
   "cell_type": "code",
   "execution_count": 204,
   "id": "1924bebb-0d0f-4b76-8da5-90381bf520d7",
   "metadata": {},
   "outputs": [
    {
     "data": {},
     "metadata": {},
     "output_type": "display_data"
    },
    {
     "data": {
      "application/vnd.holoviews_exec.v0+json": "",
      "text/html": [
       "<div id='8773'>\n",
       "\n",
       "\n",
       "\n",
       "\n",
       "\n",
       "  <div class=\"bk-root\" id=\"d6a85315-81e1-408c-882e-dbef57e33bb9\" data-root-id=\"8773\"></div>\n",
       "</div>\n",
       "<script type=\"application/javascript\">(function(root) {\n",
       "  function embed_document(root) {\n",
       "    var docs_json = {\"ce49e2f0-cb7d-4c3b-b68c-b439a4c79ed4\":{\"defs\":[{\"extends\":null,\"module\":null,\"name\":\"ReactiveHTML1\",\"overrides\":[],\"properties\":[]},{\"extends\":null,\"module\":null,\"name\":\"FlexBox1\",\"overrides\":[],\"properties\":[{\"default\":\"flex-start\",\"kind\":null,\"name\":\"align_content\"},{\"default\":\"flex-start\",\"kind\":null,\"name\":\"align_items\"},{\"default\":\"row\",\"kind\":null,\"name\":\"flex_direction\"},{\"default\":\"wrap\",\"kind\":null,\"name\":\"flex_wrap\"},{\"default\":\"flex-start\",\"kind\":null,\"name\":\"justify_content\"}]},{\"extends\":null,\"module\":null,\"name\":\"GridStack1\",\"overrides\":[],\"properties\":[{\"default\":\"warn\",\"kind\":null,\"name\":\"mode\"},{\"default\":null,\"kind\":null,\"name\":\"ncols\"},{\"default\":null,\"kind\":null,\"name\":\"nrows\"},{\"default\":true,\"kind\":null,\"name\":\"allow_resize\"},{\"default\":true,\"kind\":null,\"name\":\"allow_drag\"},{\"default\":[],\"kind\":null,\"name\":\"state\"}]},{\"extends\":null,\"module\":null,\"name\":\"click1\",\"overrides\":[],\"properties\":[{\"default\":\"\",\"kind\":null,\"name\":\"terminal_output\"},{\"default\":\"\",\"kind\":null,\"name\":\"debug_name\"},{\"default\":0,\"kind\":null,\"name\":\"clears\"}]},{\"extends\":null,\"module\":null,\"name\":\"TemplateActions1\",\"overrides\":[],\"properties\":[{\"default\":0,\"kind\":null,\"name\":\"open_modal\"},{\"default\":0,\"kind\":null,\"name\":\"close_modal\"}]},{\"extends\":null,\"module\":null,\"name\":\"MaterialTemplateActions1\",\"overrides\":[],\"properties\":[{\"default\":0,\"kind\":null,\"name\":\"open_modal\"},{\"default\":0,\"kind\":null,\"name\":\"close_modal\"}]}],\"roots\":{\"references\":[{\"attributes\":{\"coordinates\":null,\"group\":null,\"text_color\":\"black\",\"text_font_size\":\"12pt\"},\"id\":\"8779\",\"type\":\"Title\"},{\"attributes\":{\"bottom_units\":\"screen\",\"coordinates\":null,\"fill_alpha\":0.5,\"fill_color\":\"lightgrey\",\"group\":null,\"left_units\":\"screen\",\"level\":\"overlay\",\"line_alpha\":1.0,\"line_color\":\"black\",\"line_dash\":[4,4],\"line_width\":2,\"right_units\":\"screen\",\"syncable\":false,\"top_units\":\"screen\"},\"id\":\"8799\",\"type\":\"BoxAnnotation\"},{\"attributes\":{\"margin\":[5,5,5,5],\"name\":\"HSpacer21918\",\"sizing_mode\":\"stretch_width\"},\"id\":\"8774\",\"type\":\"Spacer\"},{\"attributes\":{\"axis\":{\"id\":\"8790\"},\"coordinates\":null,\"dimension\":1,\"grid_line_color\":null,\"group\":null,\"ticker\":null},\"id\":\"8793\",\"type\":\"Grid\"},{\"attributes\":{\"line_alpha\":0.1,\"line_color\":\"#30a2da\",\"line_width\":2,\"x\":{\"field\":\"Time\"},\"y\":{\"field\":\"Current Temp (C)\"}},\"id\":\"8811\",\"type\":\"Line\"},{\"attributes\":{\"margin\":[5,5,5,5],\"name\":\"HSpacer21919\",\"sizing_mode\":\"stretch_width\"},\"id\":\"8842\",\"type\":\"Spacer\"},{\"attributes\":{},\"id\":\"8791\",\"type\":\"BasicTicker\"},{\"attributes\":{},\"id\":\"8798\",\"type\":\"ResetTool\"},{\"attributes\":{\"overlay\":{\"id\":\"8799\"}},\"id\":\"8797\",\"type\":\"BoxZoomTool\"},{\"attributes\":{},\"id\":\"8785\",\"type\":\"LinearScale\"},{\"attributes\":{\"line_color\":\"#30a2da\",\"line_width\":2,\"x\":{\"field\":\"Time\"},\"y\":{\"field\":\"Current Temp (C)\"}},\"id\":\"8810\",\"type\":\"Line\"},{\"attributes\":{\"axis_label\":\"Time\",\"coordinates\":null,\"formatter\":{\"id\":\"8817\"},\"group\":null,\"major_label_policy\":{\"id\":\"8818\"},\"ticker\":{\"id\":\"8788\"}},\"id\":\"8787\",\"type\":\"CategoricalAxis\"},{\"attributes\":{\"line_color\":\"#30a2da\",\"line_width\":2,\"x\":{\"field\":\"Time\"},\"y\":{\"field\":\"Current Temp (C)\"}},\"id\":\"8815\",\"type\":\"Line\"},{\"attributes\":{\"callback\":null,\"renderers\":[{\"id\":\"8813\"}],\"tags\":[\"hv_created\"],\"tooltips\":[[\"Time\",\"@{Time}\"],[\"Current Temp (C)\",\"@{Current_Temp_left_parenthesis_C_right_parenthesis}\"]]},\"id\":\"8777\",\"type\":\"HoverTool\"},{\"attributes\":{},\"id\":\"8794\",\"type\":\"SaveTool\"},{\"attributes\":{\"axis\":{\"id\":\"8787\"},\"coordinates\":null,\"grid_line_color\":null,\"group\":null,\"ticker\":null},\"id\":\"8789\",\"type\":\"Grid\"},{\"attributes\":{\"end\":23.98,\"reset_end\":23.98,\"reset_start\":19.42,\"start\":19.42,\"tags\":[[[\"Current Temp (C)\",\"Current Temp (C)\",null]]]},\"id\":\"8776\",\"type\":\"Range1d\"},{\"attributes\":{},\"id\":\"8817\",\"type\":\"CategoricalTickFormatter\"},{\"attributes\":{},\"id\":\"8795\",\"type\":\"PanTool\"},{\"attributes\":{\"line_alpha\":0.2,\"line_color\":\"#30a2da\",\"line_width\":2,\"x\":{\"field\":\"Time\"},\"y\":{\"field\":\"Current Temp (C)\"}},\"id\":\"8812\",\"type\":\"Line\"},{\"attributes\":{\"source\":{\"id\":\"8807\"}},\"id\":\"8814\",\"type\":\"CDSView\"},{\"attributes\":{},\"id\":\"8808\",\"type\":\"Selection\"},{\"attributes\":{},\"id\":\"8829\",\"type\":\"UnionRenderers\"},{\"attributes\":{},\"id\":\"8818\",\"type\":\"AllLabels\"},{\"attributes\":{\"below\":[{\"id\":\"8787\"}],\"center\":[{\"id\":\"8789\"},{\"id\":\"8793\"}],\"height\":300,\"left\":[{\"id\":\"8790\"}],\"margin\":[5,5,5,5],\"min_border_bottom\":10,\"min_border_left\":10,\"min_border_right\":10,\"min_border_top\":10,\"renderers\":[{\"id\":\"8813\"}],\"sizing_mode\":\"fixed\",\"title\":{\"id\":\"8779\"},\"toolbar\":{\"id\":\"8800\"},\"width\":700,\"x_range\":{\"id\":\"8775\"},\"x_scale\":{\"id\":\"8783\"},\"y_range\":{\"id\":\"8776\"},\"y_scale\":{\"id\":\"8785\"}},\"id\":\"8778\",\"subtype\":\"Figure\",\"type\":\"Plot\"},{\"attributes\":{\"children\":[{\"id\":\"8774\"},{\"id\":\"8778\"},{\"id\":\"8842\"}],\"margin\":[0,0,0,0],\"name\":\"Row21914\",\"tags\":[\"embedded\"]},\"id\":\"8773\",\"type\":\"Row\"},{\"attributes\":{\"coordinates\":null,\"data_source\":{\"id\":\"8807\"},\"glyph\":{\"id\":\"8810\"},\"group\":null,\"hover_glyph\":null,\"muted_glyph\":{\"id\":\"8812\"},\"nonselection_glyph\":{\"id\":\"8811\"},\"selection_glyph\":{\"id\":\"8815\"},\"view\":{\"id\":\"8814\"}},\"id\":\"8813\",\"type\":\"GlyphRenderer\"},{\"attributes\":{},\"id\":\"8821\",\"type\":\"AllLabels\"},{\"attributes\":{},\"id\":\"8820\",\"type\":\"BasicTickFormatter\"},{\"attributes\":{},\"id\":\"8788\",\"type\":\"CategoricalTicker\"},{\"attributes\":{\"tools\":[{\"id\":\"8777\"},{\"id\":\"8794\"},{\"id\":\"8795\"},{\"id\":\"8796\"},{\"id\":\"8797\"},{\"id\":\"8798\"}]},\"id\":\"8800\",\"type\":\"Toolbar\"},{\"attributes\":{\"data\":{\"Current Temp (C)\":{\"__ndarray__\":\"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\",\"dtype\":\"float64\",\"order\":\"little\",\"shape\":[288]},\"Current_Temp_left_parenthesis_C_right_parenthesis\":{\"__ndarray__\":\"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\",\"dtype\":\"float64\",\"order\":\"little\",\"shape\":[288]},\"Time\":[\"00:00:00\",\"00:05:00\",\"00:10:00\",\"00:15:00\",\"00:20:00\",\"00:25:00\",\"00:30:00\",\"00:35:00\",\"00:40:00\",\"00:45:00\",\"00:50:00\",\"00:55:00\",\"01:00:00\",\"01:05:00\",\"01:10:00\",\"01:15:00\",\"01:20:00\",\"01:25:00\",\"01:30:00\",\"01:35:00\",\"01:40:00\",\"01:45:00\",\"01:50:00\",\"01:55:00\",\"02:00:00\",\"02:05:00\",\"02:10:00\",\"02:15:00\",\"02:20:00\",\"02:25:00\",\"02:30:00\",\"02:35:00\",\"02:40:00\",\"02:45:00\",\"02:50:00\",\"02:55:00\",\"03:00:00\",\"03:05:00\",\"03:10:00\",\"03:15:00\",\"03:20:00\",\"03:25:00\",\"03:30:00\",\"03:35:00\",\"03:40:00\",\"03:45:00\",\"03:50:00\",\"03:55:00\",\"04:00:00\",\"04:05:00\",\"04:10:00\",\"04:15:00\",\"04:20:00\",\"04:25:00\",\"04:30:00\",\"04:35:00\",\"04:40:00\",\"04:45:00\",\"04:50:00\",\"04:55:00\",\"05:00:00\",\"05:05:00\",\"05:10:00\",\"05:15:00\",\"05:20:00\",\"05:25:00\",\"05:30:00\",\"05:35:00\",\"05:40:00\",\"05:45:00\",\"05:50:00\",\"05:55:00\",\"06:00:00\",\"06:05:00\",\"06:10:00\",\"06:15:00\",\"06:20:00\",\"06:25:00\",\"06:30:00\",\"06:35:00\",\"06:40:00\",\"06:45:00\",\"06:50:00\",\"06:55:00\",\"07:00:00\",\"07:05:00\",\"07:10:00\",\"07:15:00\",\"07:20:00\",\"07:25:00\",\"07:30:00\",\"07:35:00\",\"07:40:00\",\"07:45:00\",\"07:50:00\",\"07:55:00\",\"08:00:00\",\"08:05:00\",\"08:10:00\",\"08:15:00\",\"08:20:00\",\"08:25:00\",\"08:30:00\",\"08:35:00\",\"08:40:00\",\"08:45:00\",\"08:50:00\",\"08:55:00\",\"09:00:00\",\"09:05:00\",\"09:10:00\",\"09:15:00\",\"09:20:00\",\"09:25:00\",\"09:30:00\",\"09:35:00\",\"09:40:00\",\"09:45:00\",\"09:50:00\",\"09:55:00\",\"10:00:00\",\"10:05:00\",\"10:10:00\",\"10:15:00\",\"10:20:00\",\"10:25:00\",\"10:30:00\",\"10:35:00\",\"10:40:00\",\"10:45:00\",\"10:50:00\",\"10:55:00\",\"11:00:00\",\"11:05:00\",\"11:10:00\",\"11:15:00\",\"11:20:00\",\"11:25:00\",\"11:30:00\",\"11:35:00\",\"11:40:00\",\"11:45:00\",\"11:50:00\",\"11:55:00\",\"12:00:00\",\"12:05:00\",\"12:10:00\",\"12:15:00\",\"12:20:00\",\"12:25:00\",\"12:30:00\",\"12:35:00\",\"12:40:00\",\"12:45:00\",\"12:50:00\",\"12:55:00\",\"13:00:00\",\"13:05:00\",\"13:10:00\",\"13:15:00\",\"13:20:00\",\"13:25:00\",\"13:30:00\",\"13:35:00\",\"13:40:00\",\"13:45:00\",\"13:50:00\",\"13:55:00\",\"14:00:00\",\"14:05:00\",\"14:10:00\",\"14:15:00\",\"14:20:00\",\"14:25:00\",\"14:30:00\",\"14:35:00\",\"14:40:00\",\"14:45:00\",\"14:50:00\",\"14:55:00\",\"15:00:00\",\"15:05:00\",\"15:10:00\",\"15:15:00\",\"15:20:00\",\"15:25:00\",\"15:30:00\",\"15:35:00\",\"15:40:00\",\"15:45:00\",\"15:50:00\",\"15:55:00\",\"16:00:00\",\"16:05:00\",\"16:10:00\",\"16:15:00\",\"16:20:00\",\"16:25:00\",\"16:30:00\",\"16:35:00\",\"16:40:00\",\"16:45:00\",\"16:50:00\",\"16:55:00\",\"17:00:00\",\"17:05:00\",\"17:10:00\",\"17:15:00\",\"17:20:00\",\"17:25:00\",\"17:30:00\",\"17:35:00\",\"17:40:00\",\"17:45:00\",\"17:50:00\",\"17:55:00\",\"18:00:00\",\"18:05:00\",\"18:10:00\",\"18:15:00\",\"18:20:00\",\"18:25:00\",\"18:30:00\",\"18:35:00\",\"18:40:00\",\"18:45:00\",\"18:50:00\",\"18:55:00\",\"19:00:00\",\"19:05:00\",\"19:10:00\",\"19:15:00\",\"19:20:00\",\"19:25:00\",\"19:30:00\",\"19:35:00\",\"19:40:00\",\"19:45:00\",\"19:50:00\",\"19:55:00\",\"20:00:00\",\"20:05:00\",\"20:10:00\",\"20:15:00\",\"20:20:00\",\"20:25:00\",\"20:30:00\",\"20:35:00\",\"20:40:00\",\"20:45:00\",\"20:50:00\",\"20:55:00\",\"21:00:00\",\"21:05:00\",\"21:10:00\",\"21:15:00\",\"21:20:00\",\"21:25:00\",\"21:30:00\",\"21:35:00\",\"21:40:00\",\"21:45:00\",\"21:50:00\",\"21:55:00\",\"22:00:00\",\"22:05:00\",\"22:10:00\",\"22:15:00\",\"22:20:00\",\"22:25:00\",\"22:30:00\",\"22:35:00\",\"22:40:00\",\"22:45:00\",\"22:50:00\",\"22:55:00\",\"23:00:00\",\"23:05:00\",\"23:10:00\",\"23:15:00\",\"23:20:00\",\"23:25:00\",\"23:30:00\",\"23:35:00\",\"23:40:00\",\"23:45:00\",\"23:50:00\",\"23:55:00\"]},\"selected\":{\"id\":\"8808\"},\"selection_policy\":{\"id\":\"8829\"}},\"id\":\"8807\",\"type\":\"ColumnDataSource\"},{\"attributes\":{\"axis_label\":\"Current Temp (C)\",\"coordinates\":null,\"formatter\":{\"id\":\"8820\"},\"group\":null,\"major_label_policy\":{\"id\":\"8821\"},\"ticker\":{\"id\":\"8791\"}},\"id\":\"8790\",\"type\":\"LinearAxis\"},{\"attributes\":{\"factors\":[\"00:00:00\",\"00:05:00\",\"00:10:00\",\"00:15:00\",\"00:20:00\",\"00:25:00\",\"00:30:00\",\"00:35:00\",\"00:40:00\",\"00:45:00\",\"00:50:00\",\"00:55:00\",\"01:00:00\",\"01:05:00\",\"01:10:00\",\"01:15:00\",\"01:20:00\",\"01:25:00\",\"01:30:00\",\"01:35:00\",\"01:40:00\",\"01:45:00\",\"01:50:00\",\"01:55:00\",\"02:00:00\",\"02:05:00\",\"02:10:00\",\"02:15:00\",\"02:20:00\",\"02:25:00\",\"02:30:00\",\"02:35:00\",\"02:40:00\",\"02:45:00\",\"02:50:00\",\"02:55:00\",\"03:00:00\",\"03:05:00\",\"03:10:00\",\"03:15:00\",\"03:20:00\",\"03:25:00\",\"03:30:00\",\"03:35:00\",\"03:40:00\",\"03:45:00\",\"03:50:00\",\"03:55:00\",\"04:00:00\",\"04:05:00\",\"04:10:00\",\"04:15:00\",\"04:20:00\",\"04:25:00\",\"04:30:00\",\"04:35:00\",\"04:40:00\",\"04:45:00\",\"04:50:00\",\"04:55:00\",\"05:00:00\",\"05:05:00\",\"05:10:00\",\"05:15:00\",\"05:20:00\",\"05:25:00\",\"05:30:00\",\"05:35:00\",\"05:40:00\",\"05:45:00\",\"05:50:00\",\"05:55:00\",\"06:00:00\",\"06:05:00\",\"06:10:00\",\"06:15:00\",\"06:20:00\",\"06:25:00\",\"06:30:00\",\"06:35:00\",\"06:40:00\",\"06:45:00\",\"06:50:00\",\"06:55:00\",\"07:00:00\",\"07:05:00\",\"07:10:00\",\"07:15:00\",\"07:20:00\",\"07:25:00\",\"07:30:00\",\"07:35:00\",\"07:40:00\",\"07:45:00\",\"07:50:00\",\"07:55:00\",\"08:00:00\",\"08:05:00\",\"08:10:00\",\"08:15:00\",\"08:20:00\",\"08:25:00\",\"08:30:00\",\"08:35:00\",\"08:40:00\",\"08:45:00\",\"08:50:00\",\"08:55:00\",\"09:00:00\",\"09:05:00\",\"09:10:00\",\"09:15:00\",\"09:20:00\",\"09:25:00\",\"09:30:00\",\"09:35:00\",\"09:40:00\",\"09:45:00\",\"09:50:00\",\"09:55:00\",\"10:00:00\",\"10:05:00\",\"10:10:00\",\"10:15:00\",\"10:20:00\",\"10:25:00\",\"10:30:00\",\"10:35:00\",\"10:40:00\",\"10:45:00\",\"10:50:00\",\"10:55:00\",\"11:00:00\",\"11:05:00\",\"11:10:00\",\"11:15:00\",\"11:20:00\",\"11:25:00\",\"11:30:00\",\"11:35:00\",\"11:40:00\",\"11:45:00\",\"11:50:00\",\"11:55:00\",\"12:00:00\",\"12:05:00\",\"12:10:00\",\"12:15:00\",\"12:20:00\",\"12:25:00\",\"12:30:00\",\"12:35:00\",\"12:40:00\",\"12:45:00\",\"12:50:00\",\"12:55:00\",\"13:00:00\",\"13:05:00\",\"13:10:00\",\"13:15:00\",\"13:20:00\",\"13:25:00\",\"13:30:00\",\"13:35:00\",\"13:40:00\",\"13:45:00\",\"13:50:00\",\"13:55:00\",\"14:00:00\",\"14:05:00\",\"14:10:00\",\"14:15:00\",\"14:20:00\",\"14:25:00\",\"14:30:00\",\"14:35:00\",\"14:40:00\",\"14:45:00\",\"14:50:00\",\"14:55:00\",\"15:00:00\",\"15:05:00\",\"15:10:00\",\"15:15:00\",\"15:20:00\",\"15:25:00\",\"15:30:00\",\"15:35:00\",\"15:40:00\",\"15:45:00\",\"15:50:00\",\"15:55:00\",\"16:00:00\",\"16:05:00\",\"16:10:00\",\"16:15:00\",\"16:20:00\",\"16:25:00\",\"16:30:00\",\"16:35:00\",\"16:40:00\",\"16:45:00\",\"16:50:00\",\"16:55:00\",\"17:00:00\",\"17:05:00\",\"17:10:00\",\"17:15:00\",\"17:20:00\",\"17:25:00\",\"17:30:00\",\"17:35:00\",\"17:40:00\",\"17:45:00\",\"17:50:00\",\"17:55:00\",\"18:00:00\",\"18:05:00\",\"18:10:00\",\"18:15:00\",\"18:20:00\",\"18:25:00\",\"18:30:00\",\"18:35:00\",\"18:40:00\",\"18:45:00\",\"18:50:00\",\"18:55:00\",\"19:00:00\",\"19:05:00\",\"19:10:00\",\"19:15:00\",\"19:20:00\",\"19:25:00\",\"19:30:00\",\"19:35:00\",\"19:40:00\",\"19:45:00\",\"19:50:00\",\"19:55:00\",\"20:00:00\",\"20:05:00\",\"20:10:00\",\"20:15:00\",\"20:20:00\",\"20:25:00\",\"20:30:00\",\"20:35:00\",\"20:40:00\",\"20:45:00\",\"20:50:00\",\"20:55:00\",\"21:00:00\",\"21:05:00\",\"21:10:00\",\"21:15:00\",\"21:20:00\",\"21:25:00\",\"21:30:00\",\"21:35:00\",\"21:40:00\",\"21:45:00\",\"21:50:00\",\"21:55:00\",\"22:00:00\",\"22:05:00\",\"22:10:00\",\"22:15:00\",\"22:20:00\",\"22:25:00\",\"22:30:00\",\"22:35:00\",\"22:40:00\",\"22:45:00\",\"22:50:00\",\"22:55:00\",\"23:00:00\",\"23:05:00\",\"23:10:00\",\"23:15:00\",\"23:20:00\",\"23:25:00\",\"23:30:00\",\"23:35:00\",\"23:40:00\",\"23:45:00\",\"23:50:00\",\"23:55:00\"],\"tags\":[[[\"Time\",\"Time\",null]]]},\"id\":\"8775\",\"type\":\"FactorRange\"},{\"attributes\":{},\"id\":\"8796\",\"type\":\"WheelZoomTool\"},{\"attributes\":{},\"id\":\"8783\",\"type\":\"CategoricalScale\"}],\"root_ids\":[\"8773\"]},\"title\":\"Bokeh Application\",\"version\":\"2.4.2\"}};\n",
       "    var render_items = [{\"docid\":\"ce49e2f0-cb7d-4c3b-b68c-b439a4c79ed4\",\"root_ids\":[\"8773\"],\"roots\":{\"8773\":\"d6a85315-81e1-408c-882e-dbef57e33bb9\"}}];\n",
       "    root.Bokeh.embed.embed_items_notebook(docs_json, render_items);\n",
       "  }\n",
       "  if (root.Bokeh !== undefined && root.Bokeh.Panel !== undefined && ( root['Tabulator'] !== undefined)) {\n",
       "    embed_document(root);\n",
       "  } else {\n",
       "    var attempts = 0;\n",
       "    var timer = setInterval(function(root) {\n",
       "      if (root.Bokeh !== undefined && root.Bokeh.Panel !== undefined && (root['Tabulator'] !== undefined)) {\n",
       "        clearInterval(timer);\n",
       "        embed_document(root);\n",
       "      } else if (document.readyState == \"complete\") {\n",
       "        attempts++;\n",
       "        if (attempts > 200) {\n",
       "          clearInterval(timer);\n",
       "          console.log(\"Bokeh: ERROR: Unable to run BokehJS code because BokehJS library is missing\");\n",
       "        }\n",
       "      }\n",
       "    }, 25, root)\n",
       "  }\n",
       "})(window);</script>"
      ],
      "text/plain": [
       ":Curve   [Time]   (Current Temp (C))"
      ]
     },
     "execution_count": 204,
     "metadata": {
      "application/vnd.holoviews_exec.v0+json": {
       "id": "8773"
      }
     },
     "output_type": "execute_result"
    }
   ],
   "source": [
    "@pn.depends(date_slider.param.value_throttled)\n",
    "\n",
    "def plot(date):\n",
    "    one_day_plot = df.loc[df.Date == date]\n",
    "    \n",
    "    return one_day_plot.hvplot(x = 'Time', y = 'Current Temp (C)')\n",
    "    \n",
    "plot(dt.date(2022, 11, 9))"
   ]
  },
  {
   "cell_type": "code",
   "execution_count": 205,
   "id": "04122a10-97ab-44a1-8bfc-cf730dc92d54",
   "metadata": {},
   "outputs": [],
   "source": [
    "date_slider = pn.widgets.DateSlider(name='Date Slider', start=dt.datetime(2022, 6, 29), end=dt.datetime(2022, 12, 18), value=dt.datetime(2022, 6, 29))\n",
    "\n"
   ]
  },
  {
   "cell_type": "code",
   "execution_count": 206,
   "id": "1a0d000f-fb64-4b0d-b7b8-67224dc3ac28",
   "metadata": {},
   "outputs": [
    {
     "data": {},
     "metadata": {},
     "output_type": "display_data"
    },
    {
     "data": {},
     "metadata": {},
     "output_type": "display_data"
    },
    {
     "data": {
      "application/vnd.holoviews_exec.v0+json": "",
      "text/html": [
       "<div id='8894'>\n",
       "\n",
       "\n",
       "\n",
       "\n",
       "\n",
       "  <div class=\"bk-root\" id=\"6c005b6d-b228-4da2-90d4-7d5605b546db\" data-root-id=\"8894\"></div>\n",
       "</div>\n",
       "<script type=\"application/javascript\">(function(root) {\n",
       "  function embed_document(root) {\n",
       "    var docs_json = {\"e0bb8d0a-5397-4520-8b6d-6aaabca472a3\":{\"defs\":[{\"extends\":null,\"module\":null,\"name\":\"ReactiveHTML1\",\"overrides\":[],\"properties\":[]},{\"extends\":null,\"module\":null,\"name\":\"FlexBox1\",\"overrides\":[],\"properties\":[{\"default\":\"flex-start\",\"kind\":null,\"name\":\"align_content\"},{\"default\":\"flex-start\",\"kind\":null,\"name\":\"align_items\"},{\"default\":\"row\",\"kind\":null,\"name\":\"flex_direction\"},{\"default\":\"wrap\",\"kind\":null,\"name\":\"flex_wrap\"},{\"default\":\"flex-start\",\"kind\":null,\"name\":\"justify_content\"}]},{\"extends\":null,\"module\":null,\"name\":\"GridStack1\",\"overrides\":[],\"properties\":[{\"default\":\"warn\",\"kind\":null,\"name\":\"mode\"},{\"default\":null,\"kind\":null,\"name\":\"ncols\"},{\"default\":null,\"kind\":null,\"name\":\"nrows\"},{\"default\":true,\"kind\":null,\"name\":\"allow_resize\"},{\"default\":true,\"kind\":null,\"name\":\"allow_drag\"},{\"default\":[],\"kind\":null,\"name\":\"state\"}]},{\"extends\":null,\"module\":null,\"name\":\"click1\",\"overrides\":[],\"properties\":[{\"default\":\"\",\"kind\":null,\"name\":\"terminal_output\"},{\"default\":\"\",\"kind\":null,\"name\":\"debug_name\"},{\"default\":0,\"kind\":null,\"name\":\"clears\"}]},{\"extends\":null,\"module\":null,\"name\":\"TemplateActions1\",\"overrides\":[],\"properties\":[{\"default\":0,\"kind\":null,\"name\":\"open_modal\"},{\"default\":0,\"kind\":null,\"name\":\"close_modal\"}]},{\"extends\":null,\"module\":null,\"name\":\"MaterialTemplateActions1\",\"overrides\":[],\"properties\":[{\"default\":0,\"kind\":null,\"name\":\"open_modal\"},{\"default\":0,\"kind\":null,\"name\":\"close_modal\"}]}],\"roots\":{\"references\":[{\"attributes\":{},\"id\":\"8943\",\"type\":\"AllLabels\"},{\"attributes\":{\"children\":[{\"id\":\"8895\"},{\"id\":\"8897\"}],\"margin\":[0,0,0,0],\"name\":\"Column22144\"},\"id\":\"8894\",\"type\":\"Column\"},{\"attributes\":{},\"id\":\"8909\",\"type\":\"LinearScale\"},{\"attributes\":{\"axis\":{\"id\":\"8911\"},\"coordinates\":null,\"grid_line_color\":null,\"group\":null,\"ticker\":null},\"id\":\"8914\",\"type\":\"Grid\"},{\"attributes\":{\"coordinates\":null,\"group\":null,\"text_color\":\"black\",\"text_font_size\":\"12pt\"},\"id\":\"8903\",\"type\":\"Title\"},{\"attributes\":{\"children\":[{\"id\":\"8896\"}],\"margin\":[0,0,0,0],\"name\":\"Row22021\"},\"id\":\"8895\",\"type\":\"Row\"},{\"attributes\":{},\"id\":\"8920\",\"type\":\"PanTool\"},{\"attributes\":{},\"id\":\"8945\",\"type\":\"BasicTickFormatter\"},{\"attributes\":{\"axis_label\":\"Time\",\"coordinates\":null,\"formatter\":{\"id\":\"8942\"},\"group\":null,\"major_label_policy\":{\"id\":\"8943\"},\"ticker\":{\"id\":\"8912\"}},\"id\":\"8911\",\"type\":\"LinearAxis\"},{\"attributes\":{\"axis\":{\"id\":\"8915\"},\"coordinates\":null,\"dimension\":1,\"grid_line_color\":null,\"group\":null,\"ticker\":null},\"id\":\"8918\",\"type\":\"Grid\"},{\"attributes\":{},\"id\":\"8912\",\"type\":\"BasicTicker\"},{\"attributes\":{\"end\":1671321600000.0,\"margin\":[5,10,5,10],\"start\":1656460800000.0,\"title\":\"Date Slider\",\"value\":1656460800000.0},\"id\":\"8896\",\"type\":\"DateSlider\"},{\"attributes\":{\"axis_label\":\"Current Temp (C)\",\"coordinates\":null,\"formatter\":{\"id\":\"8945\"},\"group\":null,\"major_label_policy\":{\"id\":\"8946\"},\"ticker\":{\"id\":\"8916\"}},\"id\":\"8915\",\"type\":\"LinearAxis\"},{\"attributes\":{\"client_comm_id\":\"60a8d8359df44937b634b07a876cf6f1\",\"comm_id\":\"d659a64be11b4bce86b2ca949b25d29a\",\"plot_id\":\"8894\"},\"id\":\"8997\",\"type\":\"panel.models.comm_manager.CommManager\"},{\"attributes\":{},\"id\":\"8916\",\"type\":\"BasicTicker\"},{\"attributes\":{},\"id\":\"8921\",\"type\":\"WheelZoomTool\"},{\"attributes\":{},\"id\":\"8919\",\"type\":\"SaveTool\"},{\"attributes\":{\"overlay\":{\"id\":\"8924\"}},\"id\":\"8922\",\"type\":\"BoxZoomTool\"},{\"attributes\":{},\"id\":\"8923\",\"type\":\"ResetTool\"},{\"attributes\":{\"tags\":[[[\"Current Temp (C)\",\"Current Temp (C)\",null]]]},\"id\":\"8900\",\"type\":\"Range1d\"},{\"attributes\":{\"bottom_units\":\"screen\",\"coordinates\":null,\"fill_alpha\":0.5,\"fill_color\":\"lightgrey\",\"group\":null,\"left_units\":\"screen\",\"level\":\"overlay\",\"line_alpha\":1.0,\"line_color\":\"black\",\"line_dash\":[4,4],\"line_width\":2,\"right_units\":\"screen\",\"syncable\":false,\"top_units\":\"screen\"},\"id\":\"8924\",\"type\":\"BoxAnnotation\"},{\"attributes\":{},\"id\":\"8942\",\"type\":\"BasicTickFormatter\"},{\"attributes\":{\"tools\":[{\"id\":\"8901\"},{\"id\":\"8919\"},{\"id\":\"8920\"},{\"id\":\"8921\"},{\"id\":\"8922\"},{\"id\":\"8923\"}]},\"id\":\"8925\",\"type\":\"Toolbar\"},{\"attributes\":{\"data\":{\"Current Temp (C)\":{\"__ndarray__\":\"\",\"dtype\":\"float64\",\"order\":\"little\",\"shape\":[0]},\"Current_Temp_left_parenthesis_C_right_parenthesis\":{\"__ndarray__\":\"\",\"dtype\":\"float64\",\"order\":\"little\",\"shape\":[0]},\"Time\":[]},\"selected\":{\"id\":\"8933\"},\"selection_policy\":{\"id\":\"8954\"}},\"id\":\"8932\",\"type\":\"ColumnDataSource\"},{\"attributes\":{\"source\":{\"id\":\"8932\"}},\"id\":\"8939\",\"type\":\"CDSView\"},{\"attributes\":{},\"id\":\"8954\",\"type\":\"UnionRenderers\"},{\"attributes\":{\"line_alpha\":0.1,\"line_color\":\"#30a2da\",\"line_width\":2,\"x\":{\"field\":\"Time\"},\"y\":{\"field\":\"Current Temp (C)\"}},\"id\":\"8936\",\"type\":\"Line\"},{\"attributes\":{\"coordinates\":null,\"data_source\":{\"id\":\"8932\"},\"glyph\":{\"id\":\"8935\"},\"group\":null,\"hover_glyph\":null,\"muted_glyph\":{\"id\":\"8937\"},\"nonselection_glyph\":{\"id\":\"8936\"},\"selection_glyph\":{\"id\":\"8940\"},\"view\":{\"id\":\"8939\"}},\"id\":\"8938\",\"type\":\"GlyphRenderer\"},{\"attributes\":{},\"id\":\"8946\",\"type\":\"AllLabels\"},{\"attributes\":{\"tags\":[[[\"Time\",\"Time\",null]]]},\"id\":\"8899\",\"type\":\"Range1d\"},{\"attributes\":{\"children\":[{\"id\":\"8898\"}],\"margin\":[0,0,0,0],\"name\":\"Row22143\"},\"id\":\"8897\",\"type\":\"Row\"},{\"attributes\":{\"children\":[{\"id\":\"8902\"}],\"margin\":[0,0,0,0],\"name\":\"Row22026\"},\"id\":\"8898\",\"type\":\"Row\"},{\"attributes\":{\"line_color\":\"#30a2da\",\"line_width\":2,\"x\":{\"field\":\"Time\"},\"y\":{\"field\":\"Current Temp (C)\"}},\"id\":\"8940\",\"type\":\"Line\"},{\"attributes\":{},\"id\":\"8933\",\"type\":\"Selection\"},{\"attributes\":{\"line_alpha\":0.2,\"line_color\":\"#30a2da\",\"line_width\":2,\"x\":{\"field\":\"Time\"},\"y\":{\"field\":\"Current Temp (C)\"}},\"id\":\"8937\",\"type\":\"Line\"},{\"attributes\":{\"callback\":null,\"renderers\":[{\"id\":\"8938\"}],\"tags\":[\"hv_created\"],\"tooltips\":[[\"Time\",\"@{Time}\"],[\"Current Temp (C)\",\"@{Current_Temp_left_parenthesis_C_right_parenthesis}\"]]},\"id\":\"8901\",\"type\":\"HoverTool\"},{\"attributes\":{\"line_color\":\"#30a2da\",\"line_width\":2,\"x\":{\"field\":\"Time\"},\"y\":{\"field\":\"Current Temp (C)\"}},\"id\":\"8935\",\"type\":\"Line\"},{\"attributes\":{},\"id\":\"8907\",\"type\":\"LinearScale\"},{\"attributes\":{\"below\":[{\"id\":\"8911\"}],\"center\":[{\"id\":\"8914\"},{\"id\":\"8918\"}],\"height\":300,\"left\":[{\"id\":\"8915\"}],\"margin\":[5,5,5,5],\"min_border_bottom\":10,\"min_border_left\":10,\"min_border_right\":10,\"min_border_top\":10,\"renderers\":[{\"id\":\"8938\"}],\"sizing_mode\":\"fixed\",\"title\":{\"id\":\"8903\"},\"toolbar\":{\"id\":\"8925\"},\"width\":700,\"x_range\":{\"id\":\"8899\"},\"x_scale\":{\"id\":\"8907\"},\"y_range\":{\"id\":\"8900\"},\"y_scale\":{\"id\":\"8909\"}},\"id\":\"8902\",\"subtype\":\"Figure\",\"type\":\"Plot\"}],\"root_ids\":[\"8894\",\"8997\"]},\"title\":\"Bokeh Application\",\"version\":\"2.4.2\"}};\n",
       "    var render_items = [{\"docid\":\"e0bb8d0a-5397-4520-8b6d-6aaabca472a3\",\"root_ids\":[\"8894\"],\"roots\":{\"8894\":\"6c005b6d-b228-4da2-90d4-7d5605b546db\"}}];\n",
       "    root.Bokeh.embed.embed_items_notebook(docs_json, render_items);\n",
       "  }\n",
       "  if (root.Bokeh !== undefined && root.Bokeh.Panel !== undefined && ( root['Tabulator'] !== undefined)) {\n",
       "    embed_document(root);\n",
       "  } else {\n",
       "    var attempts = 0;\n",
       "    var timer = setInterval(function(root) {\n",
       "      if (root.Bokeh !== undefined && root.Bokeh.Panel !== undefined && (root['Tabulator'] !== undefined)) {\n",
       "        clearInterval(timer);\n",
       "        embed_document(root);\n",
       "      } else if (document.readyState == \"complete\") {\n",
       "        attempts++;\n",
       "        if (attempts > 200) {\n",
       "          clearInterval(timer);\n",
       "          console.log(\"Bokeh: ERROR: Unable to run BokehJS code because BokehJS library is missing\");\n",
       "        }\n",
       "      }\n",
       "    }, 25, root)\n",
       "  }\n",
       "})(window);</script>"
      ],
      "text/plain": [
       "Column\n",
       "    [0] Row\n",
       "        [0] DateSlider(end=datetime.datetime(2022, ..., name='Date Slider', start=datetime.datetime(2022, ..., value=datetime.datetime(2022, ...)\n",
       "    [1] Row\n",
       "        [0] ParamFunction(function)"
      ]
     },
     "execution_count": 206,
     "metadata": {
      "application/vnd.holoviews_exec.v0+json": {
       "id": "8894"
      }
     },
     "output_type": "execute_result"
    }
   ],
   "source": [
    "pn.Column(pn.Row(date_slider),pn.Row(pn.bind(plot,date_slider)))\n",
    "\n"
   ]
  },
  {
   "cell_type": "code",
   "execution_count": null,
   "id": "3ba0ab31-6c4e-4fd5-9138-56a076b8d91a",
   "metadata": {},
   "outputs": [],
   "source": [
    "# https://towardsdatascience.com/using-panel-to-build-data-dashboards-in-python-e87a04c9034d"
   ]
  }
 ],
 "metadata": {
  "kernelspec": {
   "display_name": "Python 3 (ipykernel)",
   "language": "python",
   "name": "python3"
  },
  "language_info": {
   "codemirror_mode": {
    "name": "ipython",
    "version": 3
   },
   "file_extension": ".py",
   "mimetype": "text/x-python",
   "name": "python",
   "nbconvert_exporter": "python",
   "pygments_lexer": "ipython3",
   "version": "3.9.12"
  }
 },
 "nbformat": 4,
 "nbformat_minor": 5
}
